{
  "nbformat": 4,
  "nbformat_minor": 0,
  "metadata": {
    "colab": {
      "provenance": []
    },
    "kernelspec": {
      "name": "python3",
      "display_name": "Python 3"
    },
    "language_info": {
      "name": "python"
    }
  },
  "cells": [
    {
      "cell_type": "markdown",
      "source": [
        "### Load Instruction Data from URL (with Local Caching)\n",
        "\n",
        "This code defines a utility function `download_and_load_file` that downloads a JSON dataset from a given URL if it doesn't already exist locally, and loads it for use.\n",
        "\n",
        "- Uses Python’s `urllib` with a disabled SSL verification context (⚠️ not secure for production).\n",
        "- If the file is not present, it downloads and writes the content to disk.\n",
        "- If the file already exists, it reads it directly.\n",
        "- Parses the JSON content and returns it.\n",
        "- Finally, it prints the number of instruction entries loaded from the dataset.\n",
        "\n",
        "The dataset used here is `instruction-data.json` hosted on GitHub, which contains instruction-response pairs for training or evaluating instruction-tuned language models.\n"
      ],
      "metadata": {
        "id": "TNcIAtQhxLfw"
      }
    },
    {
      "cell_type": "code",
      "execution_count": null,
      "metadata": {
        "colab": {
          "base_uri": "https://localhost:8080/"
        },
        "id": "OG_ddkiWkZbc",
        "outputId": "5d79d971-8f1b-49c1-a9d6-24f76092566a"
      },
      "outputs": [
        {
          "output_type": "stream",
          "name": "stdout",
          "text": [
            "Number of entries: 1100\n"
          ]
        }
      ],
      "source": [
        "import json\n",
        "import os\n",
        "import urllib\n",
        "import ssl\n",
        "\n",
        "def download_and_load_file(file_path, url):\n",
        "    ssl_context = ssl.create_default_context()\n",
        "    ssl_context.check_hostname = False\n",
        "    ssl_context.verify_mode = ssl.CERT_NONE\n",
        "\n",
        "    if not os.path.exists(file_path):\n",
        "        with urllib.request.urlopen(url, context=ssl_context) as response:\n",
        "            text_data = response.read().decode(\"utf-8\")\n",
        "        with open(file_path, \"w\", encoding=\"utf-8\") as file:\n",
        "            file.write(text_data)\n",
        "    else:\n",
        "        with open(file_path, \"r\", encoding=\"utf-8\") as file:\n",
        "            text_data = file.read()\n",
        "\n",
        "    with open(file_path, \"r\", encoding=\"utf-8\") as file:\n",
        "        data = json.load(file)\n",
        "\n",
        "    return data\n",
        "\n",
        "\n",
        "file_path = \"instruction-data.json\"\n",
        "url = (\n",
        "    \"https://raw.githubusercontent.com/rasbt/LLMs-from-scratch\"\n",
        "    \"/main/ch07/01_main-chapter-code/instruction-data.json\"\n",
        ")\n",
        "\n",
        "data = download_and_load_file(file_path, url)\n",
        "print(\"Number of entries:\", len(data))\n"
      ]
    },
    {
      "cell_type": "markdown",
      "source": [
        "### Format Instruction-Input Prompt\n",
        "\n",
        "The `format_input` function prepares an input prompt from an instruction-entry dictionary. It formats the text in a structured template for instruction-tuned models.\n",
        "\n",
        "- Adds a task description line: _\"Below is an instruction that describes a task...\"_\n",
        "- Appends the `instruction` field under a `### Instruction:` heading.\n",
        "- If an `input` field is present (non-empty), it appends it under a `### Input:` heading.\n",
        "- Returns the complete prompt string to be fed into the language model.\n",
        "\n",
        "This formatting helps the model clearly distinguish between the instruction and optional input, following conventions similar to datasets like FLAN or Alpaca.\n"
      ],
      "metadata": {
        "id": "BD1yK-xSxTFj"
      }
    },
    {
      "cell_type": "code",
      "source": [
        "def format_input(entry):\n",
        "    instruction_text = (\n",
        "        f\"Below is an instruction that describes a task. \"\n",
        "        f\"Write a response that appropriately completes the request.\"\n",
        "        f\"\\n\\n### Instruction:\\n{entry['instruction']}\"\n",
        "    )\n",
        "\n",
        "    input_text = f\"\\n\\n### Input:\\n{entry['input']}\" if entry[\"input\"] else \"\"\n",
        "\n",
        "    return instruction_text + input_text"
      ],
      "metadata": {
        "id": "HSwgMsaBklWx"
      },
      "execution_count": null,
      "outputs": []
    },
    {
      "cell_type": "markdown",
      "source": [
        "### Preview a Formatted Instruction-Response Pair\n",
        "\n",
        "This block demonstrates how to use the `format_input` function to construct a complete prompt for a specific instruction example (in this case, index 50 of the dataset).\n",
        "\n",
        "- `model_input` contains the instruction and input formatted using the defined prompt template.\n",
        "- `desired_response` appends the expected output, prefixed with `### Response:`.\n",
        "\n",
        "The output helps visualize how the model is expected to read and respond to instruction-following prompts. This is especially useful for debugging prompt formatting or for sanity checks before training/inference.\n"
      ],
      "metadata": {
        "id": "sOyRDT-1xkJ8"
      }
    },
    {
      "cell_type": "code",
      "source": [
        "model_input = format_input(data[50])\n",
        "desired_response = f\"\\n\\n### Response:\\n{data[50]['output']}\"\n",
        "\n",
        "print(model_input + desired_response)"
      ],
      "metadata": {
        "colab": {
          "base_uri": "https://localhost:8080/"
        },
        "id": "5uU50Vy8yLjA",
        "outputId": "2b4aff72-29a6-4d64-8f46-d64bc4fdd7c3"
      },
      "execution_count": null,
      "outputs": [
        {
          "output_type": "stream",
          "name": "stdout",
          "text": [
            "Below is an instruction that describes a task. Write a response that appropriately completes the request.\n",
            "\n",
            "### Instruction:\n",
            "Identify the correct spelling of the following word.\n",
            "\n",
            "### Input:\n",
            "Ocassion\n",
            "\n",
            "### Response:\n",
            "The correct spelling is 'Occasion.'\n"
          ]
        }
      ]
    },
    {
      "cell_type": "markdown",
      "source": [
        "### Split the Dataset into Train, Validation, and Test Sets\n",
        "\n",
        "This code splits the instruction dataset into three parts:\n",
        "\n",
        "- **85%** of the data is used for training.\n",
        "- **10%** is allocated for testing (to evaluate generalization after training).\n",
        "- **5%** is reserved for validation (used during training for tuning and early stopping).\n",
        "\n",
        "The splits are created using slicing:\n",
        "- `train_data` contains the first 85% of the dataset.\n",
        "- `test_data` follows next with 10%.\n",
        "- `val_data` contains the remaining 5%.\n",
        "\n",
        "This ensures no overlap and maintains reproducibility if the dataset order is fixed.\n",
        "\n",
        "✅ Example Output:\n",
        "- Training set length: 935  \n",
        "- Validation set length: 55  \n",
        "- Test set length: 110\n"
      ],
      "metadata": {
        "id": "CNIUgCmaxxj-"
      }
    },
    {
      "cell_type": "code",
      "source": [
        "train_portion = int(len(data) * 0.85)  # 85% for training\n",
        "test_portion = int(len(data) * 0.1)    # 10% for testing\n",
        "val_portion = len(data) - train_portion - test_portion  # Remaining 5% for validation\n",
        "\n",
        "train_data = data[:train_portion]\n",
        "test_data = data[train_portion:train_portion + test_portion]\n",
        "val_data = data[train_portion + test_portion:]"
      ],
      "metadata": {
        "id": "NLVIWY1vy9Y7"
      },
      "execution_count": null,
      "outputs": []
    },
    {
      "cell_type": "code",
      "source": [
        "print(\"Training set length:\", len(train_data))\n",
        "print(\"Validation set length:\", len(val_data))\n",
        "print(\"Test set length:\", len(test_data))"
      ],
      "metadata": {
        "colab": {
          "base_uri": "https://localhost:8080/"
        },
        "id": "8qGxk_TzzCiB",
        "outputId": "c0433174-eda4-4473-83b5-065f28d33c8d"
      },
      "execution_count": null,
      "outputs": [
        {
          "output_type": "stream",
          "name": "stdout",
          "text": [
            "Training set length: 935\n",
            "Validation set length: 55\n",
            "Test set length: 110\n"
          ]
        }
      ]
    },
    {
      "cell_type": "markdown",
      "source": [
        "### Create a Custom PyTorch Dataset for Instruction Tuning\n",
        "\n",
        "This class `InstructionDataset` is a custom `torch.utils.data.Dataset` designed for instruction tuning. It takes a list of instruction-response pairs and a tokenizer, and performs the following:\n",
        "\n",
        "- **Tokenizes each example**: It formats the input using `format_input(entry)` and appends the expected output as\n",
        "`### Response:...`\n",
        "- **Encodes the full prompt** using the tokenizer and stores token IDs in `self.encoded_texts`.\n",
        "- Implements `__getitem__` and `__len__` to support PyTorch `DataLoader`.\n",
        "\n",
        "This dataset prepares each sample as a single sequence for language modeling or fine-tuning a decoder-only transformer like GPT-2.\n"
      ],
      "metadata": {
        "id": "fVQqIKqfx5OZ"
      }
    },
    {
      "cell_type": "code",
      "source": [
        "import torch\n",
        "from torch.utils.data import Dataset\n",
        "\n",
        "\n",
        "class InstructionDataset(Dataset):\n",
        "    def __init__(self, data, tokenizer):\n",
        "        self.data = data\n",
        "\n",
        "        # Pre-tokenize texts\n",
        "        self.encoded_texts = []\n",
        "        for entry in data:\n",
        "            instruction_plus_input = format_input(entry)\n",
        "            response_text = f\"\\n\\n### Response:\\n{entry['output']}\"\n",
        "            full_text = instruction_plus_input + response_text\n",
        "            self.encoded_texts.append(\n",
        "                tokenizer.encode(full_text)\n",
        "            )\n",
        "\n",
        "    def __getitem__(self, index):\n",
        "        return self.encoded_texts[index]\n",
        "\n",
        "    def __len__(self):\n",
        "        return len(self.data)"
      ],
      "metadata": {
        "id": "s71lXmcczETp"
      },
      "execution_count": null,
      "outputs": []
    },
    {
      "cell_type": "markdown",
      "source": [
        "### Load GPT-2 Tokenizer and Encode Special Token\n",
        "\n",
        "This code initializes the GPT-2 tokenizer using `tiktoken`, a fast tokenizer library by OpenAI. It then encodes the special token `<|endoftext|>`, which GPT-2 uses to indicate the end of a text sequence.\n",
        "\n",
        "- The token ID for `<|endoftext|>` is `50256`.\n",
        "- `allowed_special={\"<|endoftext|>\"}` ensures the tokenizer doesn't throw an error when encoding this special token.\n",
        "\n",
        "This step is essential when preparing prompts or handling model outputs that rely on special tokens for stopping criteria.\n"
      ],
      "metadata": {
        "id": "m2zf1EkYyHvk"
      }
    },
    {
      "cell_type": "code",
      "source": [
        "import tiktoken\n",
        "tokenizer = tiktoken.get_encoding(\"gpt2\")\n",
        "\n",
        "print(tokenizer.encode(\"<|endoftext|>\", allowed_special={\"<|endoftext|>\"}))"
      ],
      "metadata": {
        "colab": {
          "base_uri": "https://localhost:8080/"
        },
        "id": "TOGU9E7L1HeG",
        "outputId": "647b5aa4-cf30-42fa-999a-b827fa973b5f"
      },
      "execution_count": null,
      "outputs": [
        {
          "output_type": "stream",
          "name": "stdout",
          "text": [
            "[50256]\n"
          ]
        }
      ]
    },
    {
      "cell_type": "markdown",
      "source": [
        "### Custom Collate Function for Batching Instruction Data\n",
        "\n",
        "This function, `custom_collate_draft_1`, prepares batches of tokenized input sequences for training or inference. It performs the following:\n",
        "\n",
        "- **Adds an `<|endoftext|>` token** (ID: 50256) to the end of each sequence.\n",
        "- **Pads all sequences** in the batch to the same length, ensuring uniform shape.\n",
        "- The `batch_max_length` is calculated as the length of the longest sequence plus 1 (to accommodate the extra `<|endoftext|>` token).\n",
        "- **Padding tokens are removed at the end of each sequence** (`padded[:-1]`) to keep the input consistent with autoregressive modeling requirements.\n",
        "\n",
        "The final result is a `torch.Tensor` containing padded sequences, all of the same length and transferred to the target device (`cpu` or `cuda`).\n"
      ],
      "metadata": {
        "id": "FUvLWaQlyQEI"
      }
    },
    {
      "cell_type": "code",
      "source": [
        "def custom_collate_draft_1(\n",
        "    batch,\n",
        "    pad_token_id=50256,\n",
        "    device=\"cpu\"\n",
        "):\n",
        "    # Find the longest sequence in the batch\n",
        "    # and increase the max length by +1, which will add one extra\n",
        "    # padding token below\n",
        "    batch_max_length = max(len(item)+1 for item in batch)\n",
        "\n",
        "    # Pad and prepare inputs\n",
        "    inputs_lst = []\n",
        "\n",
        "    for item in batch:\n",
        "        new_item = item.copy()\n",
        "        # Add an <|endoftext|> token\n",
        "        new_item += [pad_token_id]\n",
        "        # Pad sequences to batch_max_length\n",
        "        padded = (\n",
        "            new_item + [pad_token_id] *\n",
        "            (batch_max_length - len(new_item))\n",
        "        )\n",
        "        # Via padded[:-1], we remove the extra padded token\n",
        "        # that has been added via the +1 setting in batch_max_length\n",
        "        # (the extra padding token will be relevant in later codes)\n",
        "        inputs = torch.tensor(padded[:-1])\n",
        "        inputs_lst.append(inputs)\n",
        "\n",
        "    # Convert list of inputs to tensor and transfer to target device\n",
        "    inputs_tensor = torch.stack(inputs_lst).to(device)\n",
        "    return inputs_tensor"
      ],
      "metadata": {
        "id": "KZCttex21OjP"
      },
      "execution_count": null,
      "outputs": []
    },
    {
      "cell_type": "code",
      "source": [
        "inputs_1 = [0, 1, 2, 3, 4]\n",
        "inputs_2 = [5, 6]\n",
        "inputs_3 = [7, 8, 9]\n",
        "\n",
        "batch = (\n",
        "    inputs_1,\n",
        "    inputs_2,\n",
        "    inputs_3\n",
        ")\n",
        "\n",
        "print(custom_collate_draft_1(batch))"
      ],
      "metadata": {
        "colab": {
          "base_uri": "https://localhost:8080/"
        },
        "id": "IZkhspWB1TMF",
        "outputId": "779bac3d-1157-4f52-d85a-324aa541f67b"
      },
      "execution_count": null,
      "outputs": [
        {
          "output_type": "stream",
          "name": "stdout",
          "text": [
            "tensor([[    0,     1,     2,     3,     4],\n",
            "        [    5,     6, 50256, 50256, 50256],\n",
            "        [    7,     8,     9, 50256, 50256]])\n"
          ]
        }
      ]
    },
    {
      "cell_type": "markdown",
      "source": [
        "---\n",
        "### Custom Collate Function with Input-Target Pairing (for Language Modeling)\n",
        "\n",
        "The function `custom_collate_draft_2` prepares batches of tokenized sequences for **causal language modeling**, where:\n",
        "\n",
        "- **Inputs**: All tokens except the last.\n",
        "- **Targets**: All tokens except the first (i.e., shifted by 1 position).\n",
        "\n",
        "#### 🔧 Key Steps:\n",
        "- Appends the `<|endoftext|>` token (`50256`) to each sequence.\n",
        "- Pads all sequences to the length of the longest (plus one).\n",
        "- For each sequence:\n",
        "  - `inputs`: All tokens except the final one (`[:-1]`)\n",
        "  - `targets`: All tokens except the first (`[1:]`)\n",
        "- Converts both lists into PyTorch tensors and moves them to the specified device (`cpu` or `cuda`).\n",
        "\n",
        "\n"
      ],
      "metadata": {
        "id": "3A3WoGv3yidC"
      }
    },
    {
      "cell_type": "code",
      "source": [
        "def custom_collate_draft_2(\n",
        "    batch,\n",
        "    pad_token_id=50256,\n",
        "    device=\"cpu\"\n",
        "):\n",
        "    # Find the longest sequence in the batch\n",
        "    batch_max_length = max(len(item)+1 for item in batch)\n",
        "\n",
        "    # Pad and prepare inputs\n",
        "    inputs_lst, targets_lst = [], []\n",
        "\n",
        "    for item in batch:\n",
        "        new_item = item.copy()\n",
        "        # Add an <|endoftext|> token\n",
        "        new_item += [pad_token_id]\n",
        "        # Pad sequences to max_length\n",
        "        padded = (\n",
        "            new_item + [pad_token_id] *\n",
        "            (batch_max_length - len(new_item))\n",
        "        )\n",
        "        inputs = torch.tensor(padded[:-1])  # Truncate the last token for inputs\n",
        "        targets = torch.tensor(padded[1:])  # Shift +1 to the right for targets\n",
        "        inputs_lst.append(inputs)\n",
        "        targets_lst.append(targets)\n",
        "\n",
        "    # Convert list of inputs to tensor and transfer to target device\n",
        "    inputs_tensor = torch.stack(inputs_lst).to(device)\n",
        "    targets_tensor = torch.stack(targets_lst).to(device)\n",
        "    return inputs_tensor, targets_tensor"
      ],
      "metadata": {
        "id": "LT0EWQqp1hTH"
      },
      "execution_count": null,
      "outputs": []
    },
    {
      "cell_type": "code",
      "source": [
        "inputs_1 = [0, 1, 2, 3, 4]\n",
        "inputs_2 = [5, 6]\n",
        "inputs_3 = [7, 8, 9]\n",
        "\n",
        "batch = (\n",
        "    inputs_1,\n",
        "    inputs_2,\n",
        "    inputs_3\n",
        ")\n",
        "\n",
        "inputs, targets = custom_collate_draft_2(batch)\n",
        "print(inputs)\n",
        "print(targets)\n"
      ],
      "metadata": {
        "colab": {
          "base_uri": "https://localhost:8080/"
        },
        "id": "fIhv31HM8do9",
        "outputId": "8905218a-80b5-4314-d3a9-8aaa0f6ab2f9"
      },
      "execution_count": null,
      "outputs": [
        {
          "output_type": "stream",
          "name": "stdout",
          "text": [
            "tensor([[    0,     1,     2,     3,     4],\n",
            "        [    5,     6, 50256, 50256, 50256],\n",
            "        [    7,     8,     9, 50256, 50256]])\n",
            "tensor([[    1,     2,     3,     4, 50256],\n",
            "        [    6, 50256, 50256, 50256, 50256],\n",
            "        [    8,     9, 50256, 50256, 50256]])\n"
          ]
        }
      ]
    },
    {
      "cell_type": "markdown",
      "source": [
        "---\n",
        "### `custom_collate_fn` — Advanced Collate Function for Instruction Tuning\n",
        "\n",
        "This function prepares batched inputs and targets for causal language modeling, with added support for:\n",
        "\n",
        "- **End-of-sequence token (`<|endoftext|>`)**\n",
        "- **Padding with attention masking**\n",
        "- **Target masking using `ignore_index`**\n",
        "- **Optional sequence truncation**\n",
        "\n",
        "#### 🧠 Key Features:\n",
        "- Adds `<|endoftext|>` token (`50256`) to every sample.\n",
        "- Pads sequences to match the longest sample in the batch.\n",
        "- Targets are created by shifting inputs one position to the right.\n",
        "- All **padding tokens after the first** are masked in the targets by replacing them with `ignore_index` (default `-100`) — ensuring they don't contribute to the loss.\n",
        "- Optionally truncates inputs and targets to a fixed `allowed_max_length`.\n",
        "\n"
      ],
      "metadata": {
        "id": "YJ4ZDY5sy-Ei"
      }
    },
    {
      "cell_type": "code",
      "source": [
        "def custom_collate_fn(\n",
        "    batch,\n",
        "    pad_token_id=50256,\n",
        "    ignore_index=-100,\n",
        "    allowed_max_length=None,\n",
        "    device=\"cpu\"\n",
        "):\n",
        "    # Find the longest sequence in the batch\n",
        "    batch_max_length = max(len(item)+1 for item in batch)\n",
        "\n",
        "    # Pad and prepare inputs and targets\n",
        "    inputs_lst, targets_lst = [], []\n",
        "\n",
        "    for item in batch:\n",
        "        new_item = item.copy()\n",
        "        # Add an <|endoftext|> token\n",
        "        new_item += [pad_token_id]\n",
        "        # Pad sequences to max_length\n",
        "        padded = (\n",
        "            new_item + [pad_token_id] *\n",
        "            (batch_max_length - len(new_item))\n",
        "        )\n",
        "        inputs = torch.tensor(padded[:-1])  # Truncate the last token for inputs\n",
        "        targets = torch.tensor(padded[1:])  # Shift +1 to the right for targets\n",
        "\n",
        "        # New: Replace all but the first padding tokens in targets by ignore_index\n",
        "        mask = targets == pad_token_id\n",
        "        indices = torch.nonzero(mask).squeeze()\n",
        "        if indices.numel() > 1:\n",
        "            targets[indices[1:]] = ignore_index\n",
        "\n",
        "        # New: Optionally truncate to maximum sequence length\n",
        "        if allowed_max_length is not None:\n",
        "            inputs = inputs[:allowed_max_length]\n",
        "            targets = targets[:allowed_max_length]\n",
        "\n",
        "        inputs_lst.append(inputs)\n",
        "        targets_lst.append(targets)\n",
        "\n",
        "    # Convert list of inputs and targets to tensors and transfer to target device\n",
        "    inputs_tensor = torch.stack(inputs_lst).to(device)\n",
        "    targets_tensor = torch.stack(targets_lst).to(device)\n",
        "\n",
        "    return inputs_tensor, targets_tensor"
      ],
      "metadata": {
        "id": "xBF0mup-8k5l"
      },
      "execution_count": null,
      "outputs": []
    },
    {
      "cell_type": "code",
      "source": [
        "inputs_1 = [0, 1, 2, 3, 4]\n",
        "inputs_2 = [5, 6]\n",
        "inputs_3 = [7, 8, 9]\n",
        "\n",
        "batch = (\n",
        "    inputs_1,\n",
        "    inputs_2,\n",
        "    inputs_3\n",
        ")\n",
        "\n",
        "inputs, targets = custom_collate_fn(batch)\n",
        "print(inputs)\n",
        "print(targets)"
      ],
      "metadata": {
        "colab": {
          "base_uri": "https://localhost:8080/"
        },
        "id": "K9FQaQ029ciN",
        "outputId": "208b00a0-68c3-4c7d-cfc8-1f42f9e96dd2"
      },
      "execution_count": null,
      "outputs": [
        {
          "output_type": "stream",
          "name": "stdout",
          "text": [
            "tensor([[    0,     1,     2,     3,     4],\n",
            "        [    5,     6, 50256, 50256, 50256],\n",
            "        [    7,     8,     9, 50256, 50256]])\n",
            "tensor([[    1,     2,     3,     4, 50256],\n",
            "        [    6, 50256,  -100,  -100,  -100],\n",
            "        [    8,     9, 50256,  -100,  -100]])\n"
          ]
        }
      ]
    },
    {
      "cell_type": "code",
      "source": [
        "device = torch.device(\"cuda\" if torch.cuda.is_available() else \"cpu\")\n",
        "\n",
        "print(\"Device:\", device)"
      ],
      "metadata": {
        "colab": {
          "base_uri": "https://localhost:8080/"
        },
        "id": "Yk59u_li9hhg",
        "outputId": "3f3e695b-1fd9-4ce3-b2e6-b2c2bd54a874"
      },
      "execution_count": null,
      "outputs": [
        {
          "output_type": "stream",
          "name": "stdout",
          "text": [
            "Device: cuda\n"
          ]
        }
      ]
    },
    {
      "cell_type": "markdown",
      "source": [
        "### Customizing the Collate Function with `functools.partial`\n",
        "\n",
        "We use `functools.partial` to create a **preconfigured version** of the `custom_collate_fn`, where specific arguments like the `device` and `allowed_max_length` are fixed in advance.\n",
        "\n"
      ],
      "metadata": {
        "id": "WK8QR889zJGN"
      }
    },
    {
      "cell_type": "code",
      "source": [
        "from functools import partial\n",
        "customized_collate_fn = partial(custom_collate_fn, device=device, allowed_max_length=1024)"
      ],
      "metadata": {
        "id": "aAo4pjYxN9X4"
      },
      "execution_count": null,
      "outputs": []
    },
    {
      "cell_type": "markdown",
      "source": [
        "### Preparing DataLoaders for Training, Validation, and Testing\n",
        "\n",
        "We initialize PyTorch `DataLoader` instances for the instruction-tuning dataset. Each split (train, val, test) uses the `InstructionDataset` class and the customized `collate_fn`.\n",
        "\n",
        "#### Common Settings\n",
        "- `batch_size`: Set to 8\n",
        "- `num_workers`: Set to 0 for simplicity (no parallel data loading)\n",
        "- `collate_fn`: Uses our `customized_collate_fn` with padding, truncation, and device assignment\n",
        "- `drop_last`:\n",
        "  - `True` for training to ensure all batches are uniform\n",
        "  - `False` for validation and testing to preserve all data\n",
        "\n",
        "#### DataLoader Behavior\n",
        "- `shuffle=True` for training to improve generalization\n",
        "- `shuffle=False` for validation and test to preserve order and reproducibility\n",
        "\n",
        "This setup ensures that data is efficiently batched and ready for model consumption during each training phase.\n"
      ],
      "metadata": {
        "id": "Q8tDwVM0zSvu"
      }
    },
    {
      "cell_type": "code",
      "source": [
        "from torch.utils.data import DataLoader\n",
        "\n",
        "\n",
        "num_workers = 0\n",
        "batch_size = 8\n",
        "\n",
        "torch.manual_seed(123)\n",
        "\n",
        "train_dataset = InstructionDataset(train_data, tokenizer)\n",
        "train_loader = DataLoader(\n",
        "    train_dataset,\n",
        "    batch_size=batch_size,\n",
        "    collate_fn=customized_collate_fn,\n",
        "    shuffle=True,\n",
        "    drop_last=True,\n",
        "    num_workers=num_workers\n",
        ")\n",
        "\n",
        "val_dataset = InstructionDataset(val_data, tokenizer)\n",
        "val_loader = DataLoader(\n",
        "    val_dataset,\n",
        "    batch_size=batch_size,\n",
        "    collate_fn=customized_collate_fn,\n",
        "    shuffle=False,\n",
        "    drop_last=False,\n",
        "    num_workers=num_workers\n",
        ")\n",
        "\n",
        "test_dataset = InstructionDataset(test_data, tokenizer)\n",
        "test_loader = DataLoader(\n",
        "    test_dataset,\n",
        "    batch_size=batch_size,\n",
        "    collate_fn=customized_collate_fn,\n",
        "    shuffle=False,\n",
        "    drop_last=False,\n",
        "    num_workers=num_workers\n",
        ")"
      ],
      "metadata": {
        "id": "uITXGt8yOHwO"
      },
      "execution_count": null,
      "outputs": []
    },
    {
      "cell_type": "markdown",
      "source": [
        "### GPT-2 Model Configuration (124M)\n",
        "\n",
        "We define the configuration for a GPT-2 model with 124 million parameters. This dictionary sets the architectural and training-specific hyperparameters:\n",
        "\n",
        "- **`vocab_size`**: 50257 — Size of the tokenizer's vocabulary (GPT-2 default).\n",
        "- **`context_length`**: 256 — Maximum sequence length the model can handle.\n",
        "- **`emb_dim`**: 768 — Dimension of both token embeddings and hidden representations.\n",
        "- **`n_heads`**: 12 — Number of self-attention heads in each transformer block.\n",
        "- **`n_layers`**: 12 — Total number of stacked transformer layers.\n",
        "- **`dropout`**: 0.1 — Dropout probability for regularization during training.\n",
        "- **`qkv_bias`**: `False` — Disables bias terms in the query, key, and value projections.\n",
        "\n",
        "This configuration matches the architecture of the original GPT2-Small model (~124M parameters).\n"
      ],
      "metadata": {
        "id": "_a4tJTQYzhy1"
      }
    },
    {
      "cell_type": "code",
      "source": [
        "import torch\n",
        "import torch.nn as nn"
      ],
      "metadata": {
        "id": "lNhV8rATPkNx"
      },
      "execution_count": null,
      "outputs": []
    },
    {
      "cell_type": "code",
      "source": [
        "# Model configuration dictionary (124M parameter version)\n",
        "GPT_CONFIG_124m={\n",
        "    'vocab_size':50257,        # Size of the vocabulary; used in the embedding layer\n",
        "    'context_length':256,     # Maximum number of tokens the model can consider at once (sequence length)\n",
        "    'emb_dim':768,             # Dimensionality of the token embeddings and hidden states\n",
        "    'n_heads':12,              # Number of attention heads in the multi-head attention mechanism\n",
        "    'n_layers':12,             # Number of transformer blocks/layers in the model\n",
        "    'dropout':0.1,             # Dropout rate used during training to prevent overfitting\n",
        "    'qkv_bias':False           # Whether to use bias terms in the query, key, and value projection layers\n",
        "}"
      ],
      "metadata": {
        "id": "4hOWOlRFPg9K"
      },
      "execution_count": null,
      "outputs": []
    },
    {
      "cell_type": "markdown",
      "source": [
        "### Multi-Head Attention with Causal Masking (Self-Attention)\n",
        "\n",
        "This `MultiHeadAttention` module implements scaled dot-product self-attention, split across multiple heads. It includes **causal masking**, which prevents attention from accessing future tokens — essential for autoregressive transformers like GPT.\n",
        "\n",
        "#### Key Components:\n",
        "- **`d_in` / `d_out`**: Input and output dimensionality of the embeddings.\n",
        "- **`num_heads`**: Number of parallel attention heads.\n",
        "- **`head_dim`**: Computed as `d_out // num_heads`, this determines the dimensionality each head operates on.\n",
        "- **`W_query`, `W_key`, `W_value`**: Linear layers used to compute the Q, K, V matrices.\n",
        "- **`out_proj`**: Linear layer used to recombine the output of all attention heads.\n",
        "- **Causal Masking**: Implemented using a precomputed upper-triangular matrix to ensure that each position can only attend to past and current tokens.\n",
        "\n",
        "#### Forward Pass Steps:\n",
        "1. Project the input `x` into Q, K, V matrices using linear layers.\n",
        "2. Reshape to separate the attention heads and transpose for correct dimensions.\n",
        "3. Compute attention scores using scaled dot product: `Q × Kᵀ / sqrt(head_dim)`.\n",
        "4. Apply the **causal mask** to prevent future token access.\n",
        "5. Use softmax to convert scores into attention weights.\n",
        "6. Apply dropout and compute the final output as weighted sum over V.\n",
        "7. Concatenate heads and project through `out_proj` to match `d_out`.\n",
        "\n",
        "This module enables the model to focus on different parts of the input sequence simultaneously across different attention heads.\n"
      ],
      "metadata": {
        "id": "yJyRKbNTzq9j"
      }
    },
    {
      "cell_type": "code",
      "source": [
        "#Implementing scaled dot-product attention with masking\n",
        "class MultiHeadAttention(nn.Module):\n",
        "  def __init__(self,d_in,d_out,context_length,dropout,num_heads,qkv_bias=False):\n",
        "    # Just making sure the output size works with how many heads we want\n",
        "    # Ensure the output dimension is divisible by the number of heads\n",
        "    super().__init__()\n",
        "    assert (d_out%num_heads==0),'d_out must be divisible by num_heads'\n",
        "\n",
        "    self.d_out=d_out\n",
        "    self.num_heads=num_heads\n",
        "    self.head_dim=d_out//num_heads              # Each head gets a slice of the total embedding\n",
        "\n",
        "    # Linear layers to get Q, K, V\n",
        "    self.W_query=nn.Linear(d_in,d_out,bias=qkv_bias)\n",
        "    self.W_key=nn.Linear(d_in,d_out,bias=qkv_bias)\n",
        "    self.W_value=nn.Linear(d_in,d_out,bias=qkv_bias)\n",
        "    self.out_proj=nn.Linear(d_out,d_out)        # this layer use to combine head outputs\n",
        "    self.dropout=nn.Dropout(dropout)            # Dropout layer to prevent overfitting\n",
        "    # Causal mask to prevent attention to future tokens\n",
        "    self.register_buffer('mask',torch.triu(torch.ones(context_length,context_length),diagonal=1))\n",
        "\n",
        "  def forward(self,x):\n",
        "    b,num_tokens,d_in=x.shape                  # b: batch size, num_tokens: sequence length\n",
        "    # Linear projections\n",
        "    queries=self.W_query(x)\n",
        "    keys=self.W_key(x)                         # Shape: (b, num_tokens, d_out)\n",
        "    values=self.W_value(x)\n",
        "\n",
        "    # Break each into multiple heads for parallel attention\n",
        "    #implicitly split the matrix by adding a `num_heads` dimension\n",
        "    # Unroll last dim: (b, num_tokens, d_out) to (b, num_tokens, num_heads, head_dim)\n",
        "    keys=keys.view(b,num_tokens,self.num_heads,self.head_dim)\n",
        "    queries=queries.view(b,num_tokens,self.num_heads,self.head_dim)\n",
        "    values=values.view(b,num_tokens,self.num_heads,self.head_dim) # Changed self.head to self.head_dim\n",
        "\n",
        "    #transpose: (b,num_tokens,num_heads,head_dim) to (b,num_heads,num_tokens,head_dim)\n",
        "    keys=keys.transpose(1,2)\n",
        "    queries=queries.transpose(1,2)\n",
        "    values=values.transpose(1,2)\n",
        "\n",
        "    #Dot prod of each head\n",
        "    # Compute scaled dot-product attention(self-attention) with a causal mask\n",
        "    attn_scores=queries @ keys.transpose(2,3)       # Shape: (b, heads, seq_len, seq_len)\n",
        "\n",
        "    # Original mask truncated to the number of tokens and converted to boolean\n",
        "    #####mask_bool=self.mask.bool()[:num_tokens,:num_tokens]\n",
        "    mask_bool = self.mask[:num_tokens, :num_tokens].bool().to(x.device)\n",
        "    # Use the mask to fill attention scores\n",
        "    attn_scores.masked_fill_(mask_bool,-torch.inf)\n",
        "    ######attn_scores.masked_fill_(mask_bool, -1e9)\n",
        "\n",
        "    attn_weights=torch.softmax(attn_scores/keys.shape[-1]**0.5,dim=-1)\n",
        "    attn_weights=self.dropout(attn_weights)\n",
        "\n",
        "    # Shape: (b, num_tokens, num_heads, head_dim)\n",
        "    context_vec=(attn_weights @values).transpose(1,2)\n",
        "\n",
        "    # Combine heads, where self.d_out = self.num_heads * self.head_dim\n",
        "    context_vec=context_vec.contiguous().view(b,num_tokens,self.d_out) # contiguous is used for reshape matrices in same block of memory\n",
        "    context_vec=self.out_proj(context_vec)\n",
        "    return context_vec"
      ],
      "metadata": {
        "id": "-stt_anIPh5U"
      },
      "execution_count": null,
      "outputs": []
    },
    {
      "cell_type": "markdown",
      "source": [
        "### Custom Layer Normalization with Learnable Parameters\n",
        "\n",
        "This `LayerNorm` module normalizes the input across the last dimension and includes **learnable scale and shift parameters** (`γ` and `β`) — just like the LayerNorm used in transformer models.\n",
        "\n",
        "#### Key Components:\n",
        "- **`self.scale` (`γ`)**: Learnable parameter initialized as ones, used to scale the normalized output.\n",
        "- **`self.shift` (`β`)**: Learnable parameter initialized as zeros, used to shift the normalized output.\n",
        "- **`eps`**: A small constant added to the denominator for numerical stability.\n",
        "\n",
        "#### Forward Pass Steps:\n",
        "1. Compute the **mean** of the input `x` along the last dimension.\n",
        "2. Compute the **variance** with `unbiased=False` to divide by *n* (not *n–1*), which matches behavior in transformers.\n",
        "3. Normalize the input:  \n",
        "   \\[\n",
        "   \\text{norm}_x = \\frac{x - \\text{mean}}{\\sqrt{\\text{variance} + \\epsilon}}\n",
        "   \\]\n",
        "4. Return the final output:  \n",
        "   \\[\n",
        "   \\text{output} = \\gamma \\cdot \\text{norm}_x + \\beta\n",
        "   \\]\n",
        "\n",
        "This layer ensures that each input feature is centered and scaled individually, helping stabilize training in deep networks like transformers.\n"
      ],
      "metadata": {
        "id": "8Y5CNGC0zyvw"
      }
    },
    {
      "cell_type": "code",
      "source": [
        "#Implementing Custom layer normalization with learnable parameters\n",
        "class LayerNorm(nn.Module):\n",
        "  def __init__(self,emb_dim):\n",
        "    super().__init__()\n",
        "    self.eps=1e-5\n",
        "    self.scale=nn.Parameter(torch.ones(emb_dim))          # Learnable scale parameter (γ)\n",
        "    self.shift=nn.Parameter(torch.zeros(emb_dim))         # Learnable shift parameter (β)\n",
        "\n",
        "  def forward(self,x):\n",
        "    mean=x.mean(dim=-1,keepdim=True)                      # Compute mean along the last dimension\n",
        "    var=x.var(dim=-1,keepdim=True,unbiased=False)         # unbiased is false bcz of to divide by n instead of n-1(bessels correction)\n",
        "    norm_x=(x-mean)/torch.sqrt(var+self.eps)              # Normalize input\n",
        "    return self.scale* norm_x + self.shift                # Apply learnable scale and shift"
      ],
      "metadata": {
        "id": "AXRTX4kIPn7u"
      },
      "execution_count": null,
      "outputs": []
    },
    {
      "cell_type": "markdown",
      "source": [
        "### Custom GELU Activation Function\n",
        "\n",
        "This module implements the **Gaussian Error Linear Unit (GELU)** activation function, commonly used in transformer models like GPT. It provides a smooth, non-linear alternative to ReLU.\n",
        "\n",
        "#### Why GELU?\n",
        "GELU offers a probabilistic interpretation of neuron activation and has been shown to improve performance in deep transformer architectures.\n",
        "\n",
        "#### Formula (Tanh Approximation):\n",
        "\\[\n",
        "\\text{GELU}(x) = 0.5 \\cdot x \\cdot \\left(1 + \\tanh\\left( \\sqrt{\\frac{2}{\\pi}} \\cdot \\left(x + 0.044715 \\cdot x^3\\right) \\right)\\right)\n",
        "\\]\n",
        "\n",
        "#### Key Features:\n",
        "- Approximates the standard Gaussian CDF\n",
        "- Smoothly weights inputs rather than hard-thresholding them like ReLU\n",
        "- Helps gradients flow more effectively in deep networks\n",
        "\n",
        "This approximation is both computationally efficient and effective for large-scale language models.\n"
      ],
      "metadata": {
        "id": "MfTJtfLf0N53"
      }
    },
    {
      "cell_type": "code",
      "source": [
        "# Custom implementation of the Gaussian Error Linear Unit (GELU) activation function\n",
        "class GELU(nn.Module):\n",
        "  def __init__(self):\n",
        "    super().__init__()\n",
        "\n",
        "  def forward(self,x):\n",
        "    return 0.5*x*(1+torch.tanh(torch.sqrt(torch.tensor(2/torch.pi))*(x+0.044715*torch.pow(x,3))))     # Apply the GELU activation using the tanh-based approximation"
      ],
      "metadata": {
        "id": "oH-r9YbJPrmj"
      },
      "execution_count": null,
      "outputs": []
    },
    {
      "cell_type": "markdown",
      "source": [
        "### Position-wise Feed-Forward Network (FFN)\n",
        "\n",
        "This class implements the **feed-forward sub-layer** used in Transformer blocks. It applies two linear transformations with a GELU activation in between, independently to each position.\n",
        "\n",
        "#### Architecture:\n",
        "- **Input → Linear (expand) → GELU → Linear (project) → Output**\n",
        "- The first linear layer expands the embedding dimension by a factor of 4\n",
        "- The second linear layer projects it back to the original embedding size\n",
        "\n",
        "#### Formula:\n",
        "\\[\n",
        "\\text{FFN}(x) = \\text{Linear}_2(\\text{GELU}(\\text{Linear}_1(x)))\n",
        "\\]\n",
        "\n",
        "#### Key Highlights:\n",
        "- **GELU activation** provides smoother nonlinearities compared to ReLU\n",
        "- The FFN operates on each position separately and identically\n",
        "- Acts as a per-token fully connected network for feature transformation\n",
        "\n",
        "This module enhances the model’s capacity to represent complex patterns and contributes to the depth of representation in Transformer architectures.\n"
      ],
      "metadata": {
        "id": "vYQbInkz0T-H"
      }
    },
    {
      "cell_type": "code",
      "source": [
        "# Implementation of the position-wise feed-forward network used in Transformer blocks\n",
        "class FeedForward(nn.Module):\n",
        "  def __init__(self,cfg):\n",
        "    super().__init__()\n",
        "    # Defining a two-layer feed-forward network with GELU activation\n",
        "    #The hidden layer expands the embedding dimension by a factor of 4\n",
        "    self.layers=nn.Sequential(\n",
        "        nn.Linear(cfg['emb_dim'],4*cfg['emb_dim']),       # First linear layer: expansion\n",
        "        GELU(),\n",
        "        nn.Linear(4*cfg['emb_dim'],cfg['emb_dim'])        # Second linear layer: projection back\n",
        "    )\n",
        "\n",
        "  def forward(self,x):\n",
        "    return self.layers(x)                                 # Pass input through the feed-forward layers"
      ],
      "metadata": {
        "id": "vCTkNV1nPt-w"
      },
      "execution_count": null,
      "outputs": []
    },
    {
      "cell_type": "markdown",
      "source": [
        "### Transformer Block — Residual + LayerNorm Architecture\n",
        "\n",
        "This module defines a **single Transformer block** that includes:\n",
        "- **Multi-head self-attention**\n",
        "- **Position-wise feed-forward network**\n",
        "- **Pre-layer normalization**\n",
        "- **Residual connections**\n",
        "- **Dropout for regularization**\n",
        "\n",
        "#### Forward Pass Structure:\n",
        "1. **Sublayer 1:**\n",
        "   - `LayerNorm` → `MultiHeadAttention` → `Dropout` → Add Residual\n",
        "2. **Sublayer 2:**\n",
        "   - `LayerNorm` → `FeedForward` → `Dropout` → Add Residual\n",
        "\n",
        "#### Components:\n",
        "- `self.att`: Multi-head attention module with configurable heads, embedding size, and optional bias.\n",
        "- `self.ff`: Feed-forward network that expands and compresses token embeddings.\n",
        "- `self.norm1` & `self.norm2`: Layer normalization applied before each sublayer (pre-norm style).\n",
        "- `self.drop_shortcut`: Dropout applied after sublayer outputs to the residual connection.\n",
        "\n",
        "This modular structure enables **deep stacking** of blocks in the Transformer, stabilizing training and improving generalization.\n"
      ],
      "metadata": {
        "id": "wehgT0C00afJ"
      }
    },
    {
      "cell_type": "code",
      "source": [
        "# Implementation of a single Transformer block with residual connections and normalization\n",
        "class TransformerBlock(nn.Module):\n",
        "  def __init__(self,cfg):\n",
        "    super().__init__()\n",
        "\n",
        "    # Multi-head self-attention layer\n",
        "    self.att=MultiHeadAttention(\n",
        "        d_in=cfg['emb_dim'],\n",
        "        d_out=cfg['emb_dim'],\n",
        "        context_length=cfg['context_length'],\n",
        "        num_heads=cfg['n_heads'],\n",
        "        dropout=cfg['dropout'],\n",
        "        qkv_bias=cfg['qkv_bias']\n",
        "    )\n",
        "\n",
        "    # Position-wise feed-forward layer\n",
        "    self.ff=FeedForward(cfg)\n",
        "\n",
        "    # Layer normalization before attention and feed-forward sublayers\n",
        "    self.norm1=LayerNorm(cfg['emb_dim'])\n",
        "    self.norm2=LayerNorm(cfg['emb_dim'])\n",
        "\n",
        "    # Dropout applied to residual connections\n",
        "    self.drop_shortcut=nn.Dropout(cfg['dropout'])\n",
        "\n",
        "  def forward(self,x):\n",
        "    # First sublayer: LayerNorm → Attention → Dropout → Residual Add\n",
        "    shortcut=x\n",
        "    x=self.norm1(x)\n",
        "    x=self.att(x)\n",
        "    x=self.drop_shortcut(x)\n",
        "    x=x+shortcut              # Residual connection\n",
        "\n",
        "    # Second sublayer: LayerNorm → FeedForward → Dropout → Residual Add\n",
        "    shortcut=x\n",
        "    x=self.norm2(x)\n",
        "    x=self.ff(x)\n",
        "    x=self.drop_shortcut(x)\n",
        "    x=x+shortcut              # Residual connection\n",
        "    return x"
      ],
      "metadata": {
        "id": "i6B0jg-JPx0m"
      },
      "execution_count": null,
      "outputs": []
    },
    {
      "cell_type": "markdown",
      "source": [
        "### GPT-style Transformer Model (Decoder-only)\n",
        "\n",
        "This class defines the **complete GPT architecture** built from scratch using PyTorch. It combines token/position embeddings, a stack of Transformer blocks, and a final output layer for next-token prediction.\n",
        "\n",
        "---\n",
        "\n",
        "#### Architecture Overview:\n",
        "- **Token Embedding**: Maps token IDs to dense vectors.\n",
        "- **Positional Embedding**: Learns position-specific vectors added to token embeddings.\n",
        "- **Transformer Stack**: A sequence of `n_layers` Transformer blocks, each containing multi-head attention and feedforward layers.\n",
        "- **LayerNorm**: Applied before the final output projection for stability.\n",
        "- **Output Head**: Projects the final hidden state to vocabulary logits for language modeling.\n",
        "\n",
        "---\n",
        "\n",
        "#### Forward Pass:\n",
        "1. **Inputs**: `in_idx` of shape `(batch_size, seq_len)` — token IDs.\n",
        "2. **Embeddings**: Combine token embeddings with learned positional embeddings.\n",
        "3. **Dropout**: Apply dropout to the combined embeddings.\n",
        "4. **Transformer Blocks**: Pass the input through stacked Transformer blocks.\n",
        "5. **Normalization**: Apply final `LayerNorm` after all blocks.\n",
        "6. **Output Logits**: Project to vocabulary space to get predictions for next tokens.\n",
        "\n",
        "---\n",
        "\n",
        "This model is trained using **causal language modeling (next-token prediction)** and closely follows the original GPT decoder design.\n"
      ],
      "metadata": {
        "id": "d41PBb2_0qTx"
      }
    },
    {
      "cell_type": "code",
      "source": [
        "# Full GPT-style Transformer model implementation\n",
        "class GPTModel(nn.Module):\n",
        "  def __init__(self,cfg):\n",
        "    super().__init__()\n",
        "    self.tok_emb=nn.Embedding(cfg['vocab_size'],cfg['emb_dim'])             # Token embedding layer: maps token indices to embedding vectors\n",
        "    self.pos_emb=nn.Embedding(cfg['context_length'],cfg['emb_dim'])         # Positional embedding layer: learns position information for each token\n",
        "    self.drop_emb=nn.Dropout(cfg['dropout'])                                # Dropout applied to embeddings to regularize training\n",
        "\n",
        "    # Stack of Transformer blocks\n",
        "    self.trf_block=nn.Sequential(*[TransformerBlock(cfg) for _ in range(cfg['n_layers'])])\n",
        "\n",
        "    self.final_norm=LayerNorm(cfg['emb_dim'])                               # Final layer normalization applied after all Transformer blocks\n",
        "    self.out_head=nn.Linear(cfg['emb_dim'],cfg['vocab_size'],bias=False)    # Output projection to vocabulary size (used for next-token prediction)\n",
        "\n",
        "  def forward(self,in_idx):\n",
        "    batch_size,seq_len=in_idx.shape                   # Input: in_idx of shape (batch_size, sequence_length)\n",
        "\n",
        "    # Compute token and position embeddings\n",
        "    tok_embeds=self.tok_emb(in_idx)                   # (batch_size, seq_len, emb_dim)\n",
        "    pos_embeds=self.pos_emb(torch.arange(seq_len,device=in_idx.device))\n",
        "\n",
        "    # Combine token and positional embeddings\n",
        "    x=tok_embeds+pos_embeds               # shape: batch,num_tokens,emb_size\n",
        "\n",
        "    x=self.drop_emb(x)                    # Apply dropout to combined embeddings\n",
        "    x=self.trf_block(x)                   # Pass through stacked Transformer blocks\n",
        "    x=self.final_norm(x)                  # Apply final normalization\n",
        "    logits=self.out_head(x)               # Compute logits over vocabulary (batch_size, seq_len, vocab_size)\n",
        "    return logits"
      ],
      "metadata": {
        "id": "1fAiMhMmP0EL"
      },
      "execution_count": null,
      "outputs": []
    },
    {
      "cell_type": "markdown",
      "source": [
        "### Safe Weight Assignment Utility\n",
        "\n",
        "This `assign` function ensures **shape compatibility** before assigning pretrained weights to a model parameter.\n",
        "\n",
        "#### Safety Check:\n",
        "- Compares the shape of the target tensor (`left`) with the incoming weight (`right`).\n",
        "- Raises a `ValueError` if the shapes do not match.\n",
        "\n",
        "#### If Shapes Match:\n",
        "- Wraps the `right` tensor as a **trainable `torch.nn.Parameter`** and returns it.\n",
        "\n",
        "#### Use Case:\n",
        "Helpful when loading or converting pretrained weights from external sources (like Hugging Face) into a custom PyTorch model while ensuring structural correctness.\n"
      ],
      "metadata": {
        "id": "fxDY0lsj0x5H"
      }
    },
    {
      "cell_type": "code",
      "source": [
        "# Safely assign pretrained weights to a model parameter, checking shape compatibility\n",
        "def assign(left, right):\n",
        "    if left.shape != right.shape:\n",
        "        raise ValueError(f\"Shape mismatch. Left: {left.shape}, Right: {right.shape}\")\n",
        "    return torch.nn.Parameter(torch.tensor(right))         # Wrap into a trainable torch parameter"
      ],
      "metadata": {
        "id": "gqlY64d8QEmV"
      },
      "execution_count": null,
      "outputs": []
    },
    {
      "cell_type": "markdown",
      "source": [
        "### Load Pretrained Weights into Custom GPT Model\n",
        "\n",
        "This function maps pretrained weights from a dictionary (`params`)—typically loaded from a Hugging Face GPT-2 model—into the corresponding parts of your custom PyTorch GPT model.\n",
        "\n",
        "#### Key Assignments:\n",
        "- **Embedding Layers**:\n",
        "  - `wpe` → Positional Embeddings\n",
        "  - `wte` → Token Embeddings\n",
        "\n",
        "- **Transformer Blocks (Iterated per layer)**:\n",
        "  - **QKV Attention Projections**:\n",
        "    - Splits `c_attn` weight & bias into query, key, and value components.\n",
        "    - Assigns to custom attention layers: `W_query`, `W_key`, `W_value`.\n",
        "  - **Attention Output Projection**:\n",
        "    - `c_proj` weights/bias to `att.out_proj`\n",
        "  - **Feedforward Network**:\n",
        "    - `c_fc` → First linear layer\n",
        "    - `c_proj` → Output linear layer\n",
        "  - **Layer Normalization**:\n",
        "    - Assigns `scale (g)` and `shift (b)` for both `ln_1` and `ln_2`\n",
        "\n",
        "- **Final Layers**:\n",
        "  - Final normalization: `final_norm`\n",
        "  - Output head shares the same weights as the token embedding (`wte`)\n",
        "\n",
        "#### Uses the `assign()` utility\n",
        "Every parameter is wrapped with `assign()` to ensure safe shape-matched parameter assignment.\n"
      ],
      "metadata": {
        "id": "YYtULz8f07Qm"
      }
    },
    {
      "cell_type": "code",
      "source": [
        "import numpy as np\n",
        "\n",
        "# Load pretrained weights from 'params' dictionary into your custom GPT model\n",
        "def load_weights_into_gpt(gpt, params):\n",
        "    # Assign positional and token embeddings\n",
        "    gpt.pos_emb.weight = assign(gpt.pos_emb.weight, params['wpe'])      # positional embeddings\n",
        "    gpt.tok_emb.weight = assign(gpt.tok_emb.weight, params['wte'])      # token embeddings\n",
        "\n",
        "    # Iterate over the modules within the nn.Sequential trf_block\n",
        "    for b, block in enumerate(gpt.trf_block):\n",
        "        # Split QKV weights and assign\n",
        "        q_w, k_w, v_w = np.split(\n",
        "            (params[\"blocks\"][b][\"attn\"][\"c_attn\"])[\"w\"], 3, axis=-1)\n",
        "        block.att.W_query.weight = assign(\n",
        "            block.att.W_query.weight, q_w.T)\n",
        "        block.att.W_key.weight = assign(\n",
        "            block.att.W_key.weight, k_w.T)\n",
        "        block.att.W_value.weight = assign(\n",
        "            block.att.W_value.weight, v_w.T)\n",
        "\n",
        "        # Split QKV biases and assign\n",
        "        q_b, k_b, v_b = np.split(\n",
        "            (params[\"blocks\"][b][\"attn\"][\"c_attn\"])[\"b\"], 3, axis=-1)\n",
        "        block.att.W_query.bias = assign(\n",
        "            block.att.W_query.bias, q_b)\n",
        "        block.att.W_key.bias = assign(\n",
        "            block.att.W_key.bias, k_b)\n",
        "        block.att.W_value.bias = assign(\n",
        "            block.att.W_value.bias, v_b)\n",
        "\n",
        "        # Attention output projection\n",
        "        block.att.out_proj.weight = assign(\n",
        "            block.att.out_proj.weight,\n",
        "            params[\"blocks\"][b][\"attn\"][\"c_proj\"][\"w\"].T)\n",
        "        block.att.out_proj.bias = assign(\n",
        "            block.att.out_proj.bias,\n",
        "            params[\"blocks\"][b][\"attn\"][\"c_proj\"][\"b\"])\n",
        "\n",
        "        # Feed-forward network weights and biases\n",
        "        block.ff.layers[0].weight = assign(\n",
        "            block.ff.layers[0].weight,\n",
        "            params[\"blocks\"][b][\"mlp\"][\"c_fc\"][\"w\"].T)\n",
        "        block.ff.layers[0].bias = assign(\n",
        "            block.ff.layers[0].bias,\n",
        "            params[\"blocks\"][b][\"mlp\"][\"c_fc\"][\"b\"])\n",
        "        block.ff.layers[2].weight = assign(\n",
        "            block.ff.layers[2].weight,\n",
        "            params[\"blocks\"][b][\"mlp\"][\"c_proj\"][\"w\"].T)\n",
        "        block.ff.layers[2].bias = assign(\n",
        "            block.ff.layers[2].bias,\n",
        "            params[\"blocks\"][b][\"mlp\"][\"c_proj\"][\"b\"])\n",
        "\n",
        "        # Layer normalization parameters for attention and MLP sublayers\n",
        "        block.norm1.scale = assign(\n",
        "            block.norm1.scale,\n",
        "            params[\"blocks\"][b][\"ln_1\"][\"g\"])\n",
        "        block.norm1.shift = assign(\n",
        "            block.norm1.shift,\n",
        "            params[\"blocks\"][b][\"ln_1\"][\"b\"])\n",
        "        block.norm2.scale = assign(\n",
        "            block.norm2.scale,\n",
        "            params[\"blocks\"][b][\"ln_2\"][\"g\"])\n",
        "        block.norm2.shift = assign(\n",
        "            block.norm2.shift,\n",
        "            params[\"blocks\"][b][\"ln_2\"][\"b\"])\n",
        "\n",
        "    # Final layer normalization and output projection\n",
        "    gpt.final_norm.scale = assign(gpt.final_norm.scale, params[\"g\"])\n",
        "    gpt.final_norm.shift = assign(gpt.final_norm.shift, params[\"b\"])\n",
        "    gpt.out_head.weight = assign(gpt.out_head.weight, params[\"wte\"])"
      ],
      "metadata": {
        "id": "Q86LGhEeQBYO"
      },
      "execution_count": null,
      "outputs": []
    },
    {
      "cell_type": "markdown",
      "source": [
        "### Load Pretrained GPT-2 Model and Initialize Custom Architecture\n",
        "\n",
        "This section loads pretrained GPT-2 weights and initializes a matching custom GPT model configuration.\n",
        "\n",
        "#### Base Configuration\n",
        "`BASE_CONFIG` defines core settings:\n",
        "- `vocab_size`: 50257 tokens\n",
        "- `context_length`: 1024 tokens\n",
        "- `dropout`: No dropout during evaluation\n",
        "- `qkv_bias`: Enables bias in query-key-value projections\n",
        "\n",
        "#### Model Variants\n",
        "The model architecture is selected from four GPT-2 variants:\n",
        "- `gpt2-small (124M)`\n",
        "- `gpt2-medium (355M)` *(chosen here)*\n",
        "- `gpt2-large (774M)`\n",
        "- `gpt2-xl (1558M)`\n",
        "\n",
        "The chosen configuration (`gpt2-medium`) includes:\n",
        "- `emb_dim = 1024` (embedding size)\n",
        "- `n_layers = 24` (transformer blocks)\n",
        "- `n_heads = 16` (multi-head attention)\n",
        "\n",
        "#### Pretrained Weights\n",
        "`download_and_load_gpt2()` fetches:\n",
        "- `settings`: model metadata\n",
        "- `params`: state dictionary of pretrained weights\n",
        "\n",
        "#### Model Instantiation and Loading\n",
        "- A `GPTModel` is created with the updated configuration.\n",
        "- `load_weights_into_gpt()` transfers the pretrained weights safely.\n",
        "- `model.eval()` sets the model to inference mode (disabling dropout, etc).\n"
      ],
      "metadata": {
        "id": "gQQPP5u91ERZ"
      }
    },
    {
      "cell_type": "code",
      "source": [
        "from gpt_download3 import download_and_load_gpt2\n",
        "\n",
        "BASE_CONFIG = {\n",
        "    \"vocab_size\": 50257,     # Vocabulary size\n",
        "    \"context_length\": 1024,  # Context length\n",
        "    \"dropout\": 0.0,        # Dropout rate\n",
        "    \"qkv_bias\": True         # Query-key-value bias\n",
        "}\n",
        "\n",
        "model_configs = {\n",
        "    \"gpt2-small (124M)\": {\"emb_dim\": 768, \"n_layers\": 12, \"n_heads\": 12},\n",
        "    \"gpt2-medium (355M)\": {\"emb_dim\": 1024, \"n_layers\": 24, \"n_heads\": 16},\n",
        "    \"gpt2-large (774M)\": {\"emb_dim\": 1280, \"n_layers\": 36, \"n_heads\": 20},\n",
        "    \"gpt2-xl (1558M)\": {\"emb_dim\": 1600, \"n_layers\": 48, \"n_heads\": 25},\n",
        "}\n",
        "\n",
        "CHOOSE_MODEL = \"gpt2-medium (355M)\"\n",
        "\n",
        "BASE_CONFIG.update(model_configs[CHOOSE_MODEL])\n",
        "\n",
        "model_size = CHOOSE_MODEL.split(\" \")[-1].lstrip(\"(\").rstrip(\")\")\n",
        "settings, params = download_and_load_gpt2(\n",
        "    model_size=model_size,\n",
        "    models_dir=\"gpt2\"\n",
        ")\n",
        "\n",
        "model = GPTModel(BASE_CONFIG)\n",
        "load_weights_into_gpt(model, params)\n",
        "model.eval();"
      ],
      "metadata": {
        "colab": {
          "base_uri": "https://localhost:8080/"
        },
        "id": "3S-O2bcPPIlL",
        "outputId": "f34b5a51-8945-4d82-a3ad-64dffe895827"
      },
      "execution_count": null,
      "outputs": [
        {
          "output_type": "stream",
          "name": "stderr",
          "text": [
            "/usr/local/lib/python3.11/dist-packages/urllib3/connectionpool.py:1097: InsecureRequestWarning: Unverified HTTPS request is being made to host 'openaipublic.blob.core.windows.net'. Adding certificate verification is strongly advised. See: https://urllib3.readthedocs.io/en/latest/advanced-usage.html#tls-warnings\n",
            "  warnings.warn(\n",
            "checkpoint: 100%|██████████| 77.0/77.0 [00:00<00:00, 121kiB/s]\n",
            "/usr/local/lib/python3.11/dist-packages/urllib3/connectionpool.py:1097: InsecureRequestWarning: Unverified HTTPS request is being made to host 'openaipublic.blob.core.windows.net'. Adding certificate verification is strongly advised. See: https://urllib3.readthedocs.io/en/latest/advanced-usage.html#tls-warnings\n",
            "  warnings.warn(\n",
            "encoder.json: 100%|██████████| 1.04M/1.04M [00:01<00:00, 581kiB/s]\n",
            "/usr/local/lib/python3.11/dist-packages/urllib3/connectionpool.py:1097: InsecureRequestWarning: Unverified HTTPS request is being made to host 'openaipublic.blob.core.windows.net'. Adding certificate verification is strongly advised. See: https://urllib3.readthedocs.io/en/latest/advanced-usage.html#tls-warnings\n",
            "  warnings.warn(\n",
            "hparams.json: 100%|██████████| 91.0/91.0 [00:00<00:00, 204kiB/s]\n",
            "/usr/local/lib/python3.11/dist-packages/urllib3/connectionpool.py:1097: InsecureRequestWarning: Unverified HTTPS request is being made to host 'openaipublic.blob.core.windows.net'. Adding certificate verification is strongly advised. See: https://urllib3.readthedocs.io/en/latest/advanced-usage.html#tls-warnings\n",
            "  warnings.warn(\n",
            "model.ckpt.data-00000-of-00001: 100%|██████████| 1.42G/1.42G [08:04<00:00, 2.93MiB/s]\n",
            "/usr/local/lib/python3.11/dist-packages/urllib3/connectionpool.py:1097: InsecureRequestWarning: Unverified HTTPS request is being made to host 'openaipublic.blob.core.windows.net'. Adding certificate verification is strongly advised. See: https://urllib3.readthedocs.io/en/latest/advanced-usage.html#tls-warnings\n",
            "  warnings.warn(\n",
            "model.ckpt.index: 100%|██████████| 10.4k/10.4k [00:00<00:00, 20.1MiB/s]\n",
            "/usr/local/lib/python3.11/dist-packages/urllib3/connectionpool.py:1097: InsecureRequestWarning: Unverified HTTPS request is being made to host 'openaipublic.blob.core.windows.net'. Adding certificate verification is strongly advised. See: https://urllib3.readthedocs.io/en/latest/advanced-usage.html#tls-warnings\n",
            "  warnings.warn(\n",
            "model.ckpt.meta: 100%|██████████| 927k/927k [00:02<00:00, 461kiB/s]\n",
            "/usr/local/lib/python3.11/dist-packages/urllib3/connectionpool.py:1097: InsecureRequestWarning: Unverified HTTPS request is being made to host 'openaipublic.blob.core.windows.net'. Adding certificate verification is strongly advised. See: https://urllib3.readthedocs.io/en/latest/advanced-usage.html#tls-warnings\n",
            "  warnings.warn(\n",
            "vocab.bpe: 100%|██████████| 456k/456k [00:01<00:00, 382kiB/s]\n"
          ]
        }
      ]
    },
    {
      "cell_type": "markdown",
      "source": [
        "### Format Input for Instruction-Tuned Model\n",
        "\n",
        "This section prepares a sample instruction from the validation set in the format expected by the instruction-tuned GPT-2 model.\n",
        "\n",
        "#### Steps:\n",
        "- `torch.manual_seed(123)` ensures reproducibility in sampling/generation.\n",
        "- `format_input(val_data[0])` takes the first example from the validation dataset and formats it like:\n",
        "\n"
      ],
      "metadata": {
        "id": "wQK6Q9uo1Vzs"
      }
    },
    {
      "cell_type": "code",
      "source": [
        "torch.manual_seed(123)\n",
        "input_text = format_input(val_data[0])\n",
        "print(input_text)"
      ],
      "metadata": {
        "colab": {
          "base_uri": "https://localhost:8080/"
        },
        "id": "SO8YIZeVQuIr",
        "outputId": "f76264e9-78b6-42c5-afc7-20750c60be0a"
      },
      "execution_count": null,
      "outputs": [
        {
          "output_type": "stream",
          "name": "stdout",
          "text": [
            "Below is an instruction that describes a task. Write a response that appropriately completes the request.\n",
            "\n",
            "### Instruction:\n",
            "Convert the active sentence to passive: 'The chef cooks the meal every day.'\n"
          ]
        }
      ]
    },
    {
      "cell_type": "markdown",
      "source": [
        "### Tokenization Utilities\n",
        "\n",
        "These helper functions handle conversion between text and token IDs using the GPT-2 tokenizer.\n",
        "\n",
        "#### `text_to_token_ids(text, tokenizer)`\n",
        "- Encodes a string of text into GPT-2 token IDs.\n",
        "- Adds a batch dimension to return a tensor of shape `(1, sequence_length)`.\n",
        "\n",
        "#### `token_ids_to_text(token_ids, tokenizer)`\n",
        "- Converts a tensor of token IDs back to text.\n",
        "- Assumes input tensor has shape `(1, sequence_length)` and removes the batch dimension before decoding.\n"
      ],
      "metadata": {
        "id": "DNCG5Ct81dTL"
      }
    },
    {
      "cell_type": "code",
      "source": [
        "# Converts input text to a token ID tensor with batch dimension\n",
        "def text_to_token_ids(text, tokenizer):\n",
        "    encoded = tokenizer.encode(text, allowed_special={'<|endoftext|>'})       # Tokenize input text\n",
        "    encoded_tensor = torch.tensor(encoded).unsqueeze(0)                       # add batch dimension\n",
        "    return encoded_tensor\n",
        "\n",
        "# Converts a batch of token IDs back to text (assumes batch size = 1)\n",
        "def token_ids_to_text(token_ids, tokenizer):\n",
        "    flat = token_ids.squeeze(0) # remove batch dimension\n",
        "    return tokenizer.decode(flat.tolist())"
      ],
      "metadata": {
        "id": "NfTFgWqRRSrV"
      },
      "execution_count": null,
      "outputs": []
    },
    {
      "cell_type": "markdown",
      "source": [
        "### Advanced Token Generation with Temperature and Top-k Sampling\n",
        "\n",
        "This function generates tokens from a transformer model using advanced decoding strategies such as **temperature scaling** and **top-k sampling** for better diversity and control.\n",
        "\n",
        "#### Parameters:\n",
        "- `model`: The trained GPT model\n",
        "- `idx`: Input tensor of token IDs\n",
        "- `max_new_tokens`: Number of tokens to generate\n",
        "- `context_size`: Maximum context length for generation\n",
        "- `temperature`: Controls randomness; `0.0` uses greedy decoding\n",
        "- `top_k`: Limits sampling to the top `k` probable tokens\n",
        "- `eos_id`: Optional end-of-sequence token ID to stop early\n",
        "\n",
        "#### Key Logic:\n",
        "1. Extract logits from the model for the last time step.\n",
        "2. If `top_k` is set, filter out all logits except the top `k` tokens.\n",
        "3. If `temperature > 0.0`, apply temperature scaling and sample from the softmax distribution.\n",
        "4. Otherwise, use greedy decoding by selecting the token with the highest probability.\n",
        "5. Append each generated token to the sequence.\n",
        "6. Stop early if `eos_id` is generated.\n",
        "\n",
        "This method provides a balance between **deterministic** and **stochastic** generation based on your use case.\n"
      ],
      "metadata": {
        "id": "svaLPqYc1mZW"
      }
    },
    {
      "cell_type": "code",
      "source": [
        "#Advanced decoding with temperature and top-k sampling\n",
        "def generate(model, idx, max_new_tokens, context_size, temperature=0.0, top_k=None, eos_id=None):\n",
        "\n",
        "    # For-loop is the same as before: Get logits, and only focus on last time step\n",
        "    for _ in range(max_new_tokens):\n",
        "        idx_cond = idx[:, -context_size:]\n",
        "        with torch.no_grad():\n",
        "            logits = model(idx_cond)\n",
        "        logits = logits[:, -1, :]\n",
        "\n",
        "        # New: Filter logits with top_k sampling\n",
        "        if top_k is not None:\n",
        "            # Keep only top_k values\n",
        "            top_logits, _ = torch.topk(logits, top_k)\n",
        "            min_val = top_logits[:, -1]\n",
        "            logits = torch.where(logits < min_val, torch.tensor(float(\"-inf\")).to(logits.device), logits)\n",
        "\n",
        "        # New: Apply temperature scaling\n",
        "        if temperature > 0.0:\n",
        "            logits = logits / temperature\n",
        "\n",
        "            # Apply softmax to get probabilities\n",
        "            probs = torch.softmax(logits, dim=-1)  # (batch_size, context_len)\n",
        "\n",
        "            # Sample from the distribution\n",
        "            idx_next = torch.multinomial(probs, num_samples=1)  # (batch_size, 1)\n",
        "\n",
        "        # Otherwise same as before: get idx of the vocab entry with the highest logits value\n",
        "        else:\n",
        "            idx_next = torch.argmax(logits, dim=-1, keepdim=True)  # (batch_size, 1)\n",
        "\n",
        "        if idx_next == eos_id:  # Stop generating early if end-of-sequence token is encountered and eos_id is specified\n",
        "            break\n",
        "\n",
        "        # Same as before: append sampled index to the running sequence\n",
        "        idx = torch.cat((idx, idx_next), dim=1)  # (batch_size, num_tokens+1)\n",
        "\n",
        "    return idx"
      ],
      "metadata": {
        "id": "qYlVhDPSRYpn"
      },
      "execution_count": null,
      "outputs": []
    },
    {
      "cell_type": "markdown",
      "source": [
        "### Inference and Response Generation\n",
        "\n",
        "The following steps perform inference on a given instruction-format input and extract the model's predicted response:\n",
        "\n",
        "1. **Tokenization**: The input text is first tokenized using `text_to_token_ids`.\n",
        "2. **Generation**: The model generates up to `max_new_tokens` using the `generate` function with:\n",
        "   - A fixed context size\n",
        "   - An end-of-sequence token (`<|endoftext|>` → ID 50256)\n",
        "3. **Decoding**: The resulting tokens are decoded back to text.\n",
        "4. **Response Extraction**: Only the new portion after the input prompt is sliced out and stripped to get the clean response.\n",
        "\n",
        "This logic simulates how instruction-tuned models behave by returning answers that directly follow the input query in natural language.\n",
        "\n",
        "> Example:\n",
        ">\n",
        "> **Instruction:** Convert the active sentence to passive:  \n",
        "> `'The chef cooks the meal every day.'`  \n",
        ">  \n",
        "> **Model Response:**  \n",
        "> `The meal is cooked by the chef every day.`\n"
      ],
      "metadata": {
        "id": "4uLN-kvs1x9k"
      }
    },
    {
      "cell_type": "code",
      "source": [
        "token_ids = generate(\n",
        "    model=model,\n",
        "    idx=text_to_token_ids(input_text, tokenizer),\n",
        "    max_new_tokens=35,\n",
        "    context_size=BASE_CONFIG[\"context_length\"],\n",
        "    eos_id=50256,\n",
        ")\n",
        "generated_text = token_ids_to_text(token_ids, tokenizer)"
      ],
      "metadata": {
        "id": "7Lnw5wQ_RFAX"
      },
      "execution_count": null,
      "outputs": []
    },
    {
      "cell_type": "code",
      "source": [
        "response_text = generated_text[len(input_text):].strip()\n",
        "print(response_text)"
      ],
      "metadata": {
        "colab": {
          "base_uri": "https://localhost:8080/"
        },
        "id": "gFsvoU-ZRMKh",
        "outputId": "67ea1dba-861d-42cf-abb6-f9afaa5d002b"
      },
      "execution_count": null,
      "outputs": [
        {
          "output_type": "stream",
          "name": "stdout",
          "text": [
            "### Response:\n",
            "\n",
            "The chef cooks the meal every day.\n",
            "\n",
            "### Instruction:\n",
            "\n",
            "Convert the active sentence to passive: 'The chef cooks the\n"
          ]
        }
      ]
    },
    {
      "cell_type": "markdown",
      "source": [
        "### Greedy Decoding for Autoregressive Text Generation\n",
        "\n",
        "This function implements a simple **greedy decoding** strategy to generate text from a transformer model.\n",
        "\n",
        "#### Parameters:\n",
        "- `model`: The autoregressive language model (e.g., GPT2)\n",
        "- `idx`: Tensor of input token IDs with shape `(batch_size, seq_len)`\n",
        "- `max_new_tokens`: Number of tokens to generate\n",
        "- `context_size`: Maximum number of previous tokens the model can attend to\n",
        "\n",
        "#### Decoding Logic:\n",
        "1. For each new token:\n",
        "   - Extract the last `context_size` tokens (`idx_cond`)\n",
        "   - Perform a forward pass to get the logits over the vocabulary\n",
        "   - Slice the logits to keep only the last timestep (i.e., next token prediction)\n",
        "   - Apply `softmax` to get probability distribution\n",
        "   - Use `argmax` to select the most probable token (greedy strategy)\n",
        "   - Append the predicted token to the input tensor\n",
        "\n",
        "2. Repeat the above for `max_new_tokens` steps.\n",
        "\n",
        "This is the most deterministic decoding method — it always picks the highest probability token, which can lead to fluent but sometimes repetitive output.\n"
      ],
      "metadata": {
        "id": "Itd8HHbj1-PI"
      }
    },
    {
      "cell_type": "code",
      "source": [
        "# Greedy decoding method for autoregressive text generation\n",
        "def generate_text_simple(model,idx,max_new_tokens,context_size):\n",
        "  for _ in range(max_new_tokens):\n",
        "    # to extract last context_size idx only\n",
        "    idx_cond=idx[:,-context_size:]\n",
        "\n",
        "     # Perform forward pass without tracking gradients\n",
        "    with torch.no_grad():\n",
        "      logits=model(idx_cond)                                #shape: (batch,num_tokens,vocab_size)\n",
        "\n",
        "    #extract last row from logit tensor\n",
        "    logits=logits[:,-1,:]                                   #shape: (batch,num_tokens,vocab_size) to (batch,vocab_size)\n",
        "\n",
        "    # Compute token probabilities using softmax\n",
        "    probas=torch.softmax(logits,dim=-1)\n",
        "    idx_next=torch.argmax(probas,dim=-1,keepdim=True)       # Select the most probable next token (greedy choice)  Shape: (batch_size, 1)\n",
        "    idx=torch.cat((idx,idx_next),dim=1)                     # Concatenate the predicted token to the input sequence (batch,num_token+1)\n",
        "\n",
        "  return idx"
      ],
      "metadata": {
        "id": "4mk9MM5WTjIF"
      },
      "execution_count": null,
      "outputs": []
    },
    {
      "cell_type": "markdown",
      "source": [
        "### Generate and Print Sample Output\n",
        "\n",
        "This function demonstrates how to generate a continuation from a text prompt using the trained transformer model.\n",
        "\n",
        "#### Workflow:\n",
        "1. **Model Evaluation Mode**: Sets the model to evaluation mode to disable dropout.\n",
        "2. **Determine Context Size**: Extracts the maximum context length from the model’s positional embeddings.\n",
        "3. **Tokenization**: Converts the input prompt into token IDs and moves it to the target device.\n",
        "4. **Generation**: Calls the `generate_text_simple` function to produce `max_new_tokens` (e.g., 50) using greedy decoding.\n",
        "5. **Decoding**: Converts the output token IDs back into human-readable text.\n",
        "6. **Print**: Cleans up newlines and prints the generated output.\n",
        "\n",
        "This function provides a quick way to test how the model completes or continues a given input.\n"
      ],
      "metadata": {
        "id": "qHuz81U72E6B"
      }
    },
    {
      "cell_type": "code",
      "source": [
        "# Generates a continuation from a text prompt using the model and prints the decoded output\n",
        "def generate_and_print_sample(model,tokenizer,device,start_context):\n",
        "  model.eval()\n",
        "  context_size=model.pos_emb.weight.shape[0]                        # Determine the maximum context length from the positional embedding matrix\n",
        "  encoded=text_to_token_ids(start_context,tokenizer).to(device)     # Tokenize the input prompt and move to the specified device\n",
        "  with torch.no_grad():\n",
        "    # Generate new tokens starting from the input prompt\n",
        "    token_ids=generate_text_simple(\n",
        "        model=model,\n",
        "        idx=encoded,\n",
        "        max_new_tokens=50,\n",
        "        context_size=context_size\n",
        "    )\n",
        "\n",
        "    # Convert generated token IDs back to text\n",
        "    decoded_text=token_ids_to_text(token_ids,tokenizer)\n",
        "    print(decoded_text.replace('\\n',' '))\n",
        "    model.train()"
      ],
      "metadata": {
        "id": "_wqoUF78TUtF"
      },
      "execution_count": null,
      "outputs": []
    },
    {
      "cell_type": "markdown",
      "source": [
        "### Evaluate Model on Training and Validation Sets\n",
        "\n",
        "This function evaluates the model’s performance on both the **training** and **validation** datasets using a fixed number of batches.\n",
        "\n",
        "#### Key Steps:\n",
        "1. **Evaluation Mode**: Sets the model to `eval()` mode to disable dropout and use stable layer norm stats.\n",
        "2. **No Gradient Calculation**: Wraps evaluation in `torch.no_grad()` for memory efficiency.\n",
        "3. **Loss Computation**: Calls `calc_loss_loader()` for both `train_loader` and `val_loader`, using only `eval_iter` batches.\n",
        "4. **Return to Training Mode**: After evaluation, the model is switched back to `train()` mode.\n",
        "\n",
        "#### Returns:\n",
        "- `train_loss`: Average loss on sampled training batches\n",
        "- `val_loss`: Average loss on sampled validation batches\n",
        "\n",
        "This is useful for **intermittent validation** during training (e.g., every few steps) without computing full epoch losses.\n"
      ],
      "metadata": {
        "id": "zO1N2NCU2PI4"
      }
    },
    {
      "cell_type": "code",
      "source": [
        "# Evaluates the model on both training and validation data over a fixed number of batches\n",
        "def evaluate_model(model,train_loader,val_loader,device,eval_iter):\n",
        "  model.eval()            # Set the model to evaluation mode (disables dropout, uses running stats in norms)\n",
        "\n",
        "  # Disable gradient computation for efficient evaluation\n",
        "  with torch.no_grad():\n",
        "    train_loss=calc_loss_loader(train_loader,model,device,num_batches=eval_iter)      # Compute average loss over a subset of training data\n",
        "    val_loss=calc_loss_loader(val_loader,model,device,num_batches=eval_iter)          # Compute average loss over a subset of validation data\n",
        "\n",
        "  model.train()   # Return model to training mode after evaluation\n",
        "  return train_loss,val_loss"
      ],
      "metadata": {
        "id": "4mYHnd_ZTd99"
      },
      "execution_count": null,
      "outputs": []
    },
    {
      "cell_type": "markdown",
      "source": [
        "### Train Transformer Model with Periodic Evaluation\n",
        "\n",
        "This training routine defines how to train the instruction-tuned GPT2 model using mini-batch gradient descent, with periodic evaluation and sample generation.\n",
        "\n",
        "---\n",
        "\n",
        "#### `calc_loss_batch(input_batch, target_batch, model, device)`\n",
        "- Computes the cross-entropy loss for a single input-target batch.\n",
        "- Moves inputs to the specified device and flattens tensors for loss calculation.\n",
        "\n",
        "---\n",
        "\n",
        "#### `calc_loss_loader(data_loader, model, device, num_batches=None)`\n",
        "- Iterates through a dataloader and averages the loss across a number of batches.\n",
        "- Defaults to evaluating all batches unless `num_batches` is specified.\n",
        "- Returns NaN if the dataloader is empty.\n",
        "\n",
        "---\n",
        "\n",
        "#### `train_model_simple(...)`\n",
        "A full training loop with optional evaluation and live sample generation.\n",
        "\n",
        "**Inputs:**\n",
        "- `model`: The transformer model to train.\n",
        "- `train_loader`, `val_loader`: PyTorch dataloaders.\n",
        "- `optimizer`: Optimizer for gradient descent (e.g., Adam).\n",
        "- `device`: Target device (`cuda` or `cpu`).\n",
        "- `num_epochs`: Total epochs to train for.\n",
        "- `eval_freq`: Evaluation frequency (steps).\n",
        "- `eval_iter`: Number of batches used for validation.\n",
        "- `start_context`: Initial prompt for sample generation.\n",
        "- `tokenizer`: Tokenizer used for encoding/decoding.\n",
        "\n",
        "**Key Features:**\n",
        "- Tracks training and validation loss across time.\n",
        "- Logs number of tokens seen per step.\n",
        "- Evaluates model at regular intervals using `evaluate_model()`.\n",
        "- Generates a text continuation after each epoch to visualize training progress.\n",
        "\n",
        "**Returns:**\n",
        "- `train_losses`: List of training losses over time.\n",
        "- `val_losses`: List of validation losses over time.\n",
        "- `track_tokens_seen`: Cumulative token count per step for plotting.\n",
        "\n",
        "This function provides both quantitative feedback (loss) and qualitative feedback (text samples) throughout training.\n"
      ],
      "metadata": {
        "id": "_j7DKOqN2Yfe"
      }
    },
    {
      "cell_type": "code",
      "source": [
        "def calc_loss_batch(input_batch, target_batch, model, device):\n",
        "    input_batch, target_batch = input_batch.to(device), target_batch.to(device)\n",
        "    logits = model(input_batch)\n",
        "    loss = torch.nn.functional.cross_entropy(logits.flatten(0, 1), target_batch.flatten())\n",
        "    return loss\n",
        "\n",
        "\n",
        "def calc_loss_loader(data_loader, model, device, num_batches=None):\n",
        "    total_loss = 0.\n",
        "    if len(data_loader) == 0:\n",
        "        return float(\"nan\")\n",
        "    elif num_batches is None:\n",
        "        num_batches = len(data_loader)\n",
        "    else:\n",
        "        # Reduce the number of batches to match the total number of batches in the data loader\n",
        "        # if num_batches exceeds the number of batches in the data loader\n",
        "        num_batches = min(num_batches, len(data_loader))\n",
        "    for i, (input_batch, target_batch) in enumerate(data_loader):\n",
        "        if i < num_batches:\n",
        "            loss = calc_loss_batch(input_batch, target_batch, model, device)\n",
        "            total_loss += loss.item()\n",
        "        else:\n",
        "            break\n",
        "    return total_loss / num_batches\n",
        "\n",
        "def train_model_simple(model, train_loader, val_loader, optimizer, device, num_epochs,\n",
        "                       eval_freq, eval_iter, start_context, tokenizer):\n",
        "    # Initialize lists to track losses and tokens seen\n",
        "    train_losses, val_losses, track_tokens_seen = [], [], []\n",
        "    tokens_seen, global_step = 0, -1\n",
        "\n",
        "    # Main training loop\n",
        "    for epoch in range(num_epochs):\n",
        "        model.train()  # Set model to training mode\n",
        "\n",
        "        for input_batch, target_batch in train_loader:\n",
        "            optimizer.zero_grad() # Reset loss gradients from previous batch iteration\n",
        "            loss = calc_loss_batch(input_batch, target_batch, model, device)\n",
        "            loss.backward() # Calculate loss gradients\n",
        "            optimizer.step() # Update model weights using loss gradients\n",
        "            tokens_seen += input_batch.numel() # Returns the total number of elements (or tokens) in the input_batch.\n",
        "            global_step += 1\n",
        "\n",
        "            # Optional evaluation step\n",
        "            if global_step % eval_freq == 0:\n",
        "                train_loss, val_loss = evaluate_model(\n",
        "                    model, train_loader, val_loader, device, eval_iter)\n",
        "                train_losses.append(train_loss)\n",
        "                val_losses.append(val_loss)\n",
        "                track_tokens_seen.append(tokens_seen)\n",
        "                print(f\"Ep {epoch+1} (Step {global_step:06d}): \"\n",
        "                      f\"Train loss {train_loss:.3f}, Val loss {val_loss:.3f}\")\n",
        "\n",
        "        # Print a sample text after each epoch\n",
        "        generate_and_print_sample(\n",
        "            model, tokenizer, device, start_context\n",
        "        )\n",
        "\n",
        "    return train_losses, val_losses, track_tokens_seen\n"
      ],
      "metadata": {
        "id": "5isq1823RvU7"
      },
      "execution_count": null,
      "outputs": []
    },
    {
      "cell_type": "markdown",
      "source": [
        "### Initial Loss Evaluation Before Training\n",
        "\n",
        "Before starting the training loop, we compute the **baseline loss** on both the training and validation sets using a few batches.\n",
        "\n",
        "#### Code Behavior:\n",
        "- Moves the model to the appropriate `device` (CPU/GPU).\n",
        "- Sets a fixed random seed (`torch.manual_seed(123)`) for reproducibility.\n",
        "- Disables gradient tracking with `torch.no_grad()` to save memory and speed up computation.\n",
        "- Evaluates loss using only 5 batches from each loader to get a quick snapshot.\n",
        "\n",
        "#### Baseline Loss Results:\n",
        "- **Training loss**: `3.83`\n",
        "- **Validation loss**: `3.76`\n",
        "\n",
        "This gives an initial benchmark to compare how the model improves after training begins.\n"
      ],
      "metadata": {
        "id": "1ZAXyIQT2l_W"
      }
    },
    {
      "cell_type": "code",
      "source": [
        "model.to(device)\n",
        "\n",
        "torch.manual_seed(123)\n",
        "\n",
        "with torch.no_grad():\n",
        "    train_loss = calc_loss_loader(train_loader, model, device, num_batches=5)\n",
        "    val_loss = calc_loss_loader(val_loader, model, device, num_batches=5)\n",
        "\n",
        "print(\"Training loss:\", train_loss)\n",
        "print(\"Validation loss:\", val_loss)"
      ],
      "metadata": {
        "colab": {
          "base_uri": "https://localhost:8080/"
        },
        "id": "RWQbK24STNWK",
        "outputId": "b45d469c-ce74-40df-9214-4c161027bb21"
      },
      "execution_count": null,
      "outputs": [
        {
          "output_type": "stream",
          "name": "stdout",
          "text": [
            "Training loss: 3.825909471511841\n",
            "Validation loss: 3.761934232711792\n"
          ]
        }
      ]
    },
    {
      "cell_type": "markdown",
      "source": [
        "### Model Training Progress and Time\n",
        "\n",
        "This block launches the full training process using `train_model_simple`. The model is trained for 3 epochs with periodic evaluation every 5 steps using 5 batches.\n",
        "\n",
        "#### Settings:\n",
        "- **Optimizer**: AdamW (`lr=5e-5`, `weight_decay=0.1`)\n",
        "- **Seed**: 123 (for reproducibility)\n",
        "- **Epochs**: 3\n",
        "- **Evaluation Frequency**: Every 5 steps\n",
        "- **Evaluation Batches**: 5 per eval\n",
        "- **Tokenizer**: `tiktoken` GPT-2\n",
        "- **Start Prompt**: Uses first instruction from validation set\n",
        "\n",
        "#### Training Metrics Snapshot:\n",
        "\n",
        "| Epoch | Step  | Train Loss | Val Loss |\n",
        "|-------|-------|------------|----------|\n",
        "| 1     | 000000 | 2.637     | 2.626    |\n",
        "| 1     | 000050 | 0.663     | 0.783    |\n",
        "| 2     | 000120 | 0.435     | 0.671    |\n",
        "| 2     | 000200 | 0.309     | 0.633    |\n",
        "| 3     | 000300 | 0.267     | 0.680    |\n",
        "| 3     | 000345 | 0.246     | 0.678    |\n",
        "\n",
        "The model steadily improves in both training and validation loss across epochs, indicating effective learning and generalization.\n",
        "\n",
        "**Total Training Time**: ~4.65 minutes\n"
      ],
      "metadata": {
        "id": "b0fMQRXk2y85"
      }
    },
    {
      "cell_type": "code",
      "source": [
        "import time\n",
        "\n",
        "start_time = time.time()\n",
        "\n",
        "torch.manual_seed(123)\n",
        "\n",
        "optimizer = torch.optim.AdamW(model.parameters(), lr=0.00005, weight_decay=0.1)\n",
        "\n",
        "num_epochs = 3\n",
        "\n",
        "train_losses, val_losses, tokens_seen = train_model_simple(\n",
        "    model, train_loader, val_loader, optimizer, device,\n",
        "    num_epochs=num_epochs, eval_freq=5, eval_iter=5,\n",
        "    start_context=format_input(val_data[0]), tokenizer=tokenizer\n",
        ")\n",
        "\n",
        "end_time = time.time()\n",
        "execution_time_minutes = (end_time - start_time) / 60\n",
        "print(f\"Training completed in {execution_time_minutes:.2f} minutes.\")"
      ],
      "metadata": {
        "colab": {
          "base_uri": "https://localhost:8080/"
        },
        "id": "l2ZkSynKTQDL",
        "outputId": "1ab7b0e2-305e-41ea-d45d-682840d48c38"
      },
      "execution_count": null,
      "outputs": [
        {
          "output_type": "stream",
          "name": "stdout",
          "text": [
            "Ep 1 (Step 000000): Train loss 2.637, Val loss 2.626\n",
            "Ep 1 (Step 000005): Train loss 1.174, Val loss 1.103\n",
            "Ep 1 (Step 000010): Train loss 0.872, Val loss 0.944\n",
            "Ep 1 (Step 000015): Train loss 0.857, Val loss 0.906\n",
            "Ep 1 (Step 000020): Train loss 0.776, Val loss 0.881\n",
            "Ep 1 (Step 000025): Train loss 0.754, Val loss 0.859\n",
            "Ep 1 (Step 000030): Train loss 0.799, Val loss 0.836\n",
            "Ep 1 (Step 000035): Train loss 0.714, Val loss 0.808\n",
            "Ep 1 (Step 000040): Train loss 0.672, Val loss 0.806\n",
            "Ep 1 (Step 000045): Train loss 0.633, Val loss 0.789\n",
            "Ep 1 (Step 000050): Train loss 0.663, Val loss 0.783\n",
            "Ep 1 (Step 000055): Train loss 0.760, Val loss 0.763\n",
            "Ep 1 (Step 000060): Train loss 0.719, Val loss 0.743\n",
            "Ep 1 (Step 000065): Train loss 0.653, Val loss 0.735\n",
            "Ep 1 (Step 000070): Train loss 0.533, Val loss 0.729\n",
            "Ep 1 (Step 000075): Train loss 0.568, Val loss 0.729\n",
            "Ep 1 (Step 000080): Train loss 0.604, Val loss 0.725\n",
            "Ep 1 (Step 000085): Train loss 0.509, Val loss 0.710\n",
            "Ep 1 (Step 000090): Train loss 0.563, Val loss 0.691\n",
            "Ep 1 (Step 000095): Train loss 0.502, Val loss 0.681\n",
            "Ep 1 (Step 000100): Train loss 0.504, Val loss 0.677\n",
            "Ep 1 (Step 000105): Train loss 0.565, Val loss 0.670\n",
            "Ep 1 (Step 000110): Train loss 0.554, Val loss 0.666\n",
            "Ep 1 (Step 000115): Train loss 0.508, Val loss 0.663\n",
            "Below is an instruction that describes a task. Write a response that appropriately completes the request.  ### Instruction: Convert the active sentence to passive: 'The chef cooks the meal every day.'  ### Response: The meal is prepared every day by the chef.<|endoftext|>The following is an instruction that describes a task. Write a response that appropriately completes the request.  ### Instruction: Convert the active sentence to passive:\n",
            "Ep 2 (Step 000120): Train loss 0.435, Val loss 0.671\n",
            "Ep 2 (Step 000125): Train loss 0.451, Val loss 0.687\n",
            "Ep 2 (Step 000130): Train loss 0.447, Val loss 0.682\n",
            "Ep 2 (Step 000135): Train loss 0.405, Val loss 0.681\n",
            "Ep 2 (Step 000140): Train loss 0.410, Val loss 0.681\n",
            "Ep 2 (Step 000145): Train loss 0.369, Val loss 0.681\n",
            "Ep 2 (Step 000150): Train loss 0.382, Val loss 0.675\n",
            "Ep 2 (Step 000155): Train loss 0.414, Val loss 0.675\n",
            "Ep 2 (Step 000160): Train loss 0.412, Val loss 0.684\n",
            "Ep 2 (Step 000165): Train loss 0.379, Val loss 0.686\n",
            "Ep 2 (Step 000170): Train loss 0.322, Val loss 0.680\n",
            "Ep 2 (Step 000175): Train loss 0.338, Val loss 0.667\n",
            "Ep 2 (Step 000180): Train loss 0.392, Val loss 0.656\n",
            "Ep 2 (Step 000185): Train loss 0.415, Val loss 0.657\n",
            "Ep 2 (Step 000190): Train loss 0.340, Val loss 0.648\n",
            "Ep 2 (Step 000195): Train loss 0.328, Val loss 0.633\n",
            "Ep 2 (Step 000200): Train loss 0.309, Val loss 0.633\n",
            "Ep 2 (Step 000205): Train loss 0.353, Val loss 0.631\n",
            "Ep 2 (Step 000210): Train loss 0.364, Val loss 0.630\n",
            "Ep 2 (Step 000215): Train loss 0.394, Val loss 0.634\n",
            "Ep 2 (Step 000220): Train loss 0.297, Val loss 0.644\n",
            "Ep 2 (Step 000225): Train loss 0.342, Val loss 0.658\n",
            "Ep 2 (Step 000230): Train loss 0.294, Val loss 0.657\n",
            "Below is an instruction that describes a task. Write a response that appropriately completes the request.  ### Instruction: Convert the active sentence to passive: 'The chef cooks the meal every day.'  ### Response: The meal is cooked every day by the chef.<|endoftext|>The following is an instruction that describes a task. Write a response that appropriately completes the request.  ### Instruction: What is the capital of the United Kingdom\n",
            "Ep 3 (Step 000235): Train loss 0.329, Val loss 0.663\n",
            "Ep 3 (Step 000240): Train loss 0.280, Val loss 0.697\n",
            "Ep 3 (Step 000245): Train loss 0.274, Val loss 0.705\n",
            "Ep 3 (Step 000250): Train loss 0.248, Val loss 0.687\n",
            "Ep 3 (Step 000255): Train loss 0.274, Val loss 0.674\n",
            "Ep 3 (Step 000260): Train loss 0.268, Val loss 0.679\n",
            "Ep 3 (Step 000265): Train loss 0.278, Val loss 0.701\n",
            "Ep 3 (Step 000270): Train loss 0.278, Val loss 0.716\n",
            "Ep 3 (Step 000275): Train loss 0.273, Val loss 0.710\n",
            "Ep 3 (Step 000280): Train loss 0.290, Val loss 0.722\n",
            "Ep 3 (Step 000285): Train loss 0.294, Val loss 0.716\n",
            "Ep 3 (Step 000290): Train loss 0.295, Val loss 0.704\n",
            "Ep 3 (Step 000295): Train loss 0.266, Val loss 0.693\n",
            "Ep 3 (Step 000300): Train loss 0.267, Val loss 0.680\n",
            "Ep 3 (Step 000305): Train loss 0.272, Val loss 0.680\n",
            "Ep 3 (Step 000310): Train loss 0.269, Val loss 0.691\n",
            "Ep 3 (Step 000315): Train loss 0.238, Val loss 0.694\n",
            "Ep 3 (Step 000320): Train loss 0.253, Val loss 0.688\n",
            "Ep 3 (Step 000325): Train loss 0.235, Val loss 0.696\n",
            "Ep 3 (Step 000330): Train loss 0.235, Val loss 0.699\n",
            "Ep 3 (Step 000335): Train loss 0.233, Val loss 0.697\n",
            "Ep 3 (Step 000340): Train loss 0.244, Val loss 0.688\n",
            "Ep 3 (Step 000345): Train loss 0.246, Val loss 0.678\n",
            "Below is an instruction that describes a task. Write a response that appropriately completes the request.  ### Instruction: Convert the active sentence to passive: 'The chef cooks the meal every day.'  ### Response: The chef cooks the meal every day.<|endoftext|>The following is an instruction that describes a task. Write a response that appropriately completes the request.  ### Instruction: What is the capital of the United Kingdom? \n",
            "Training completed in 4.65 minutes.\n"
          ]
        }
      ]
    },
    {
      "cell_type": "markdown",
      "source": [
        "### Loss Curve: Training vs. Validation\n",
        "\n",
        "This plot tracks the model’s performance over time by visualizing both training and validation loss:\n",
        "\n",
        "- **Training Loss** steadily decreases, indicating that the model is learning from the data.\n",
        "- **Validation Loss** also shows a downward trend, suggesting good generalization to unseen instructions.\n",
        "- The **bottom X-axis** shows epoch progression, while the **top X-axis** represents cumulative tokens processed.\n",
        "- The gap between training and validation losses is relatively small, indicating no major overfitting.\n",
        "\n",
        "This visualization helps evaluate model convergence and training effectiveness.\n"
      ],
      "metadata": {
        "id": "Ysxvs4DN3Rs_"
      }
    },
    {
      "cell_type": "code",
      "source": [
        "import matplotlib.pyplot as plt\n",
        "from matplotlib.ticker import MaxNLocator\n",
        "\n",
        "\n",
        "def plot_losses(epochs_seen, tokens_seen, train_losses, val_losses):\n",
        "    fig, ax1 = plt.subplots(figsize=(5, 3))\n",
        "\n",
        "    # Plot training and validation loss against epochs\n",
        "    ax1.plot(epochs_seen, train_losses, label=\"Training loss\")\n",
        "    ax1.plot(epochs_seen, val_losses, linestyle=\"-.\", label=\"Validation loss\")\n",
        "    ax1.set_xlabel(\"Epochs\")\n",
        "    ax1.set_ylabel(\"Loss\")\n",
        "    ax1.legend(loc=\"upper right\")\n",
        "    ax1.xaxis.set_major_locator(MaxNLocator(integer=True))  # only show integer labels on x-axis\n",
        "\n",
        "    # Create a second x-axis for tokens seen\n",
        "    ax2 = ax1.twiny()  # Create a second x-axis that shares the same y-axis\n",
        "    ax2.plot(tokens_seen, train_losses, alpha=0)  # Invisible plot for aligning ticks\n",
        "    ax2.set_xlabel(\"Tokens seen\")\n",
        "\n",
        "    fig.tight_layout()  # Adjust layout to make room\n",
        "    plt.savefig(\"loss-plot.png\")\n",
        "    plt.show()"
      ],
      "metadata": {
        "id": "7RSoG7M-Umxm"
      },
      "execution_count": null,
      "outputs": []
    },
    {
      "cell_type": "code",
      "source": [
        "epochs_tensor = torch.linspace(0, num_epochs, len(train_losses))\n",
        "plot_losses(epochs_tensor, tokens_seen, train_losses, val_losses)"
      ],
      "metadata": {
        "colab": {
          "base_uri": "https://localhost:8080/",
          "height": 307
        },
        "id": "c9s5pesLUsM2",
        "outputId": "8b7ced76-e50f-432c-b951-5b0530fab951"
      },
      "execution_count": null,
      "outputs": [
        {
          "output_type": "display_data",
          "data": {
            "text/plain": [
              "<Figure size 500x300 with 2 Axes>"
            ],
            "image/png": "[encoded data removed]"
          },
          "metadata": {}
        }
      ]
    },
    {
      "cell_type": "markdown",
      "source": [
        "### Sample Model Inference on Instruction Data\n",
        "\n",
        "This code snippet demonstrates how the instruction-tuned GPT2 model responds to unseen examples from the test set:\n",
        "\n",
        "- **Input Construction**: Each example is formatted using the `format_input()` function.\n",
        "- **Generation**: The `generate()` function performs autoregressive decoding up to 256 new tokens.\n",
        "- **Post-Processing**: The generated output is trimmed after the input, and the `\"### Response:\"` prefix is removed to extract the model's reply.\n",
        "\n",
        "#### Example 1\n",
        "**Instruction**: Rewrite the sentence using a simile.  \n",
        "**Input**: The car is very fast.  \n",
        "**Correct Response**: The car is as fast as lightning.  \n",
        "**Model Response**: The car is as fast as a bullet.\n",
        "\n",
        "\n",
        "#### Example 2\n",
        "**Instruction**: What type of cloud is typically associated with thunderstorms?  \n",
        "**Correct Response**: The type of cloud typically associated with thunderstorms is cumulonimbus.  \n",
        "**Model Response**: The type of cloud typically associated with thunderstorms is a cumulus (thin, water-filled, or gas-filled) cloud.\n",
        "\n",
        "\n",
        "#### Example 3\n",
        "**Instruction**: Name the author of 'Pride and Prejudice'.  \n",
        "**Correct Response**: Jane Austen.  \n",
        "**Model Response**: The author of 'Pride and Prejudice' is Jane Austen.\n",
        "\n",
        "> The model correctly captures intent and structure in most examples, though factual precision may vary slightly depending on the prompt.\n"
      ],
      "metadata": {
        "id": "yz2oy8tq3cIG"
      }
    },
    {
      "cell_type": "code",
      "source": [
        "torch.manual_seed(123)\n",
        "\n",
        "\n",
        "for entry in test_data[:3]:\n",
        "\n",
        "    input_text = format_input(entry)\n",
        "\n",
        "    token_ids = generate(\n",
        "        model=model,\n",
        "        idx=text_to_token_ids(input_text, tokenizer).to(device),\n",
        "        max_new_tokens=256,\n",
        "        context_size=BASE_CONFIG[\"context_length\"],\n",
        "        eos_id=50256\n",
        "    )\n",
        "    generated_text = token_ids_to_text(token_ids, tokenizer)\n",
        "    response_text = (\n",
        "        generated_text[len(input_text):]\n",
        "        .replace(\"### Response:\", \"\")\n",
        "        .strip()\n",
        ")\n",
        "\n",
        "    print(input_text)\n",
        "    print(f\"\\nCorrect response:\\n>> {entry['output']}\")\n",
        "    print(f\"\\nModel response:\\n>> {response_text.strip()}\")\n",
        "    print(\"-------------------------------------\")"
      ],
      "metadata": {
        "colab": {
          "base_uri": "https://localhost:8080/"
        },
        "id": "Vg-nAeWxVWlg",
        "outputId": "6390c980-bca4-4169-eb49-162fe27db1aa"
      },
      "execution_count": null,
      "outputs": [
        {
          "output_type": "stream",
          "name": "stdout",
          "text": [
            "Below is an instruction that describes a task. Write a response that appropriately completes the request.\n",
            "\n",
            "### Instruction:\n",
            "Rewrite the sentence using a simile.\n",
            "\n",
            "### Input:\n",
            "The car is very fast.\n",
            "\n",
            "Correct response:\n",
            ">> The car is as fast as lightning.\n",
            "\n",
            "Model response:\n",
            ">> The car is as fast as a bullet.\n",
            "-------------------------------------\n",
            "Below is an instruction that describes a task. Write a response that appropriately completes the request.\n",
            "\n",
            "### Instruction:\n",
            "What type of cloud is typically associated with thunderstorms?\n",
            "\n",
            "Correct response:\n",
            ">> The type of cloud typically associated with thunderstorms is cumulonimbus.\n",
            "\n",
            "Model response:\n",
            ">> The type of cloud typically associated with thunderstorms is a cumulus (thin, water-filled, or gas-filled) cloud.\n",
            "-------------------------------------\n",
            "Below is an instruction that describes a task. Write a response that appropriately completes the request.\n",
            "\n",
            "### Instruction:\n",
            "Name the author of 'Pride and Prejudice'.\n",
            "\n",
            "Correct response:\n",
            ">> Jane Austen.\n",
            "\n",
            "Model response:\n",
            ">> The author of 'Pride and Prejudice' is Jane Austen.\n",
            "-------------------------------------\n"
          ]
        }
      ]
    },
    {
      "cell_type": "markdown",
      "source": [
        "### Generating and Saving Model Responses\n",
        "\n",
        "This block performs **batch inference** on the test dataset and saves the model’s predictions:\n",
        "\n",
        "- It loops over each test sample using `tqdm` for a progress bar.\n",
        "- Each input is formatted and tokenized, then passed into the `generate()` function.\n",
        "- The model's raw output tokens are decoded and post-processed to extract only the response part.\n",
        "- The generated response is added to each entry under the key `\"model_response\"`.\n",
        "- Finally, all updated test entries are written to a file named `instruction-data-with-response.json` in a readable (pretty-printed) JSON format.\n",
        "\n",
        "> This step is essential for later evaluation or visual inspection of model performance across unseen instructions.\n"
      ],
      "metadata": {
        "id": "XPnAR4w_3vKH"
      }
    },
    {
      "cell_type": "code",
      "source": [
        "from tqdm import tqdm\n",
        "\n",
        "for i, entry in tqdm(enumerate(test_data), total=len(test_data)):\n",
        "\n",
        "    input_text = format_input(entry)\n",
        "\n",
        "    token_ids = generate(\n",
        "        model=model,\n",
        "        idx=text_to_token_ids(input_text, tokenizer).to(device),\n",
        "        max_new_tokens=256,\n",
        "        context_size=BASE_CONFIG[\"context_length\"],\n",
        "        eos_id=50256\n",
        "    )\n",
        "    generated_text = token_ids_to_text(token_ids, tokenizer)\n",
        "    response_text = generated_text[len(input_text):].replace(\"### Response:\", \"\").strip()\n",
        "\n",
        "    test_data[i][\"model_response\"] = response_text\n",
        "\n",
        "\n",
        "with open(\"instruction-data-with-response.json\", \"w\") as file:\n",
        "    json.dump(test_data, file, indent=4)  # \"indent\" for pretty-printing"
      ],
      "metadata": {
        "colab": {
          "base_uri": "https://localhost:8080/"
        },
        "id": "XWI9CXLfXYzS",
        "outputId": "8dcd78c4-5683-4cc9-d080-48ed5cce93a5"
      },
      "execution_count": null,
      "outputs": [
        {
          "output_type": "stream",
          "name": "stderr",
          "text": [
            "100%|██████████| 110/110 [01:32<00:00,  1.18it/s]\n"
          ]
        }
      ]
    },
    {
      "cell_type": "markdown",
      "source": [
        "### Example Entry from the Test Dataset\n",
        "\n",
        "The following dictionary represents a single data point in the test set, showing both the ground-truth output and the model-generated response:\n",
        "\n",
        "- **Instruction**: `\"Rewrite the sentence using a simile.\"`\n",
        "- **Input**: `\"The car is very fast.\"`\n",
        "- **Expected Output**: `\"The car is as fast as lightning.\"`\n",
        "- **Model Response**: `\"The car is as fast as a bullet.\"`\n",
        "\n",
        "> This format is useful for evaluating how closely the model's output aligns with the intended response based on natural language understanding and stylistic accuracy.\n"
      ],
      "metadata": {
        "id": "MyQntTji35Tc"
      }
    },
    {
      "cell_type": "code",
      "source": [
        "print(test_data[0])"
      ],
      "metadata": {
        "colab": {
          "base_uri": "https://localhost:8080/"
        },
        "id": "VubM-UkkXpAe",
        "outputId": "acaa4b00-b8ea-44e6-bd8f-c3b1136d6b93"
      },
      "execution_count": null,
      "outputs": [
        {
          "output_type": "stream",
          "name": "stdout",
          "text": [
            "{'instruction': 'Rewrite the sentence using a simile.', 'input': 'The car is very fast.', 'output': 'The car is as fast as lightning.', 'model_response': 'The car is as fast as a bullet.'}\n"
          ]
        }
      ]
    },
    {
      "cell_type": "markdown",
      "source": [
        "### Saving the Fine-Tuned Model\n",
        "\n",
        "The model’s weights are saved to disk using `torch.save()`, with a filename automatically generated from the model name (`CHOOSE_MODEL`) by removing spaces and parentheses.\n",
        "\n",
        "- Example saved file: `gpt2-medium355M-sft.pth`\n",
        "\n",
        "You can later reload the model using:\n",
        "```python\n",
        "model.load_state_dict(torch.load(\"gpt2-medium355M-sft.pth\"))\n"
      ],
      "metadata": {
        "id": "S2uQYuWK4D26"
      }
    },
    {
      "cell_type": "code",
      "source": [
        "import re\n",
        "\n",
        "\n",
        "file_name = f\"{re.sub(r'[ ()]', '', CHOOSE_MODEL) }-sft.pth\"\n",
        "torch.save(model.state_dict(), file_name)\n",
        "print(f\"Model saved as {file_name}\")\n",
        "\n",
        "# Load model\n",
        "# model.load_state_dict(torch.load(\"gpt2-medium355M-sft.pth\"))"
      ],
      "metadata": {
        "colab": {
          "base_uri": "https://localhost:8080/"
        },
        "id": "CmMX7OLYXvJl",
        "outputId": "20420105-7e6b-4829-c19b-52cf5e36b715"
      },
      "execution_count": null,
      "outputs": [
        {
          "output_type": "stream",
          "name": "stdout",
          "text": [
            "Model saved as gpt2-medium355M-sft.pth\n"
          ]
        }
      ]
    }
  ]
}